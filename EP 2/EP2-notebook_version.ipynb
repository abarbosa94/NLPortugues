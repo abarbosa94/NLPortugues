{
 "cells": [
  {
   "cell_type": "markdown",
   "metadata": {},
   "source": [
    "<img src=\"https://github.com/alan-barzilay/NLPortugues/blob/master/imagens/logo_nlportugues.png?raw=true\"  style=\"height:65%\" align=\"right\">\n",
    "\n",
    "\n",
    "# EP 2 Notebook\n",
    "**Nome:** André Barbosa\n",
    "\n",
    "**Numero Usp:** 7971751\n",
    "\n",
    "\n",
    "\n",
    "\n",
    "\n",
    "\n",
    "\n",
    "\n",
    "\n",
    "\n",
    "\n",
    "\n",
    "\n",
    "______________"
   ]
  },
  {
   "cell_type": "code",
   "execution_count": 1,
   "metadata": {
    "id": "oXUpsSKS80uQ"
   },
   "outputs": [],
   "source": [
    "from collections import Counter\n",
    "import re\n",
    "\n",
    "import matplotlib.pyplot as plt \n",
    "import numpy as np\n",
    "import pandas as pd\n",
    "from sklearn.model_selection import train_test_split\n",
    "import tensorflow as tf\n",
    "from tensorflow import keras\n",
    "from tensorflow.keras import layers\n",
    "from tensorflow.keras.layers.experimental.preprocessing import TextVectorization\n",
    "from tqdm.notebook import tqdm\n",
    "tf.get_logger().setLevel('ERROR')"
   ]
  },
  {
   "cell_type": "markdown",
   "metadata": {
    "id": "6rq1b4jq80uj"
   },
   "source": [
    "## Prepare o dataset\n",
    "\n"
   ]
  },
  {
   "cell_type": "markdown",
   "metadata": {},
   "source": [
    "Precisa lembrar de falar que o dataset inicial está separado com ';'"
   ]
  },
  {
   "cell_type": "code",
   "execution_count": 2,
   "metadata": {},
   "outputs": [],
   "source": [
    "np.random.seed(42)\n",
    "\n",
    "\n",
    "def preprocess_embedding_from_NILC(embedding_path_origin: str, embed_dim: int):\n",
    "    # Pré-processa embedding baseado na lista 04\n",
    "    N = 929606\n",
    "    with open(f\"data/cbow_s{embed_dim}.txt\", \"r\") as file:\n",
    "        head = [next(file) for x in range(N)]\n",
    "\n",
    "    head[0] = str(N - 1) + \" \" + f\"{embed_dim}\" + \"\\n\"  # Conserta contagem de palavras\n",
    "    vocab = set()\n",
    "    with open(f\"data/word2vec_{embed_dim}dim_200k.txt\", \"w\") as file:\n",
    "        i = 0\n",
    "        iter_rows = iter(head)\n",
    "        next(iter_rows)\n",
    "        for line in tqdm(\n",
    "            iter_rows, total=N, desc=\"Preprocessing Embeddings from NILC file\"\n",
    "        ):\n",
    "            word_vector = line.split()\n",
    "            word = word_vector[0]\n",
    "            embedding = word_vector[1:]\n",
    "            if len(embedding) != embed_dim:\n",
    "                print(f\"word line {i} is corrupt, skipping it.\")\n",
    "                continue\n",
    "            i += 1\n",
    "            if word in vocab:\n",
    "                continue\n",
    "            vocab.add(word)\n",
    "            file.write(line)\n",
    "    return None"
   ]
  },
  {
   "cell_type": "code",
   "execution_count": 3,
   "metadata": {},
   "outputs": [],
   "source": [
    "def filtro(b2wCorpus: pd.DataFrame) -> pd.DataFrame:\n",
    "    df = b2wCorpus[[\"review_text\", \"overall_rating\"]].copy()\n",
    "    df = df[df[\"overall_rating\"].isin([0, 1, 2, 3, 4, 5])]\n",
    "    return df.reset_index(drop=True)"
   ]
  },
  {
   "cell_type": "code",
   "execution_count": 4,
   "metadata": {},
   "outputs": [],
   "source": [
    "def partilha(\n",
    "    path_original_dataset: str,\n",
    "    train_proportion=0.65,\n",
    "    val_proportion=0.1,\n",
    "    test_proportion=0.25,\n",
    "    sep=\";\",\n",
    ") -> pd.DataFrame:\n",
    "    if (train_proportion + val_proportion + test_proportion) != 1:\n",
    "        raise ValueError(\"Train, Validation and Test size should always be 1\")\n",
    "\n",
    "    b2wCorpus = pd.read_csv(path_original_dataset, sep=sep)\n",
    "    df = filtro(b2wCorpus)\n",
    "    X_train, X_val, y_train, y_val = train_test_split(\n",
    "            df[\"review_text\"],\n",
    "            df[\"overall_rating\"],\n",
    "            train_size=0.8,\n",
    "            random_state=42,\n",
    "            stratify=df[\"overall_rating\"],\n",
    "        )\n",
    "\n",
    "    train_df = pd.DataFrame([X_train, y_train]).T\n",
    "    val_df = pd.DataFrame([X_val, y_val]).T\n",
    "    X_val, X_test, y_val, y_test = train_test_split(\n",
    "            val_df[\"review_text\"],\n",
    "            val_df[\"overall_rating\"],\n",
    "            train_size=val_proportion/(val_proportion+test_proportion),\n",
    "            random_state=42,\n",
    "            stratify=val_df[\"overall_rating\"]\n",
    "        )\n",
    "    val_df = pd.DataFrame([X_val, y_val]).T\n",
    "    test_df = pd.DataFrame([X_test, y_test]).T\n",
    "    assert len(df) == (len(train_df) + len(val_df) + len(test_df))\n",
    "    train_df.to_csv(\"data/train.csv\", index=False)\n",
    "    val_df.to_csv(\"data/validation.csv\", index=False)\n",
    "    test_df.to_csv(\"data/test.csv\", index=False)\n",
    "    return None"
   ]
  },
  {
   "cell_type": "code",
   "execution_count": 5,
   "metadata": {},
   "outputs": [],
   "source": [
    "def gera_embeddings(path: str, embed_dim=50) -> np.ndarray:\n",
    "    \"\"\"\n",
    "    This function gets the NILC embeddings and store it\n",
    "    as a numpy matrix\n",
    "    All words are going to be initialized as zero and then\n",
    "    they are modified according to specific vector\n",
    "    \"\"\"\n",
    "    N = 929592\n",
    "    #embedding_matrix = np.zeros((N, embed_dim))\n",
    "    with open(path, \"r\") as file:\n",
    "        i=0\n",
    "        embed_matrix = [np.zeros((2, embed_dim))]\n",
    "        embed_vocab = []\n",
    "        for line in tqdm(file, total=N):\n",
    "            splitted_words = line.split()\n",
    "            embed_matrix.append(np.array(splitted_words[1:]).reshape(1,-1))\n",
    "            embed_vocab.append(splitted_words[0])\n",
    "            i+=1\n",
    "        embed_matrix = np.vstack(embed_matrix)\n",
    "    return embed_matrix, embed_vocab"
   ]
  },
  {
   "cell_type": "code",
   "execution_count": 7,
   "metadata": {},
   "outputs": [],
   "source": [
    "def codifica(\n",
    "    train_df_text: pd.Series, tammax: int, embed_dim: int\n",
    ") -> (TextVectorization, np.ndarray):\n",
    "    embed_matrix, embed_vocab = gera_embeddings(\n",
    "        f\"data/word2vec_{embed_dim}dim_200k.txt\"\n",
    "    )\n",
    "    tokenizer_layer = TextVectorization(\n",
    "        max_tokens=len(embed_vocab)+2, #OOV and 0 is used for mask\n",
    "        standardize=\"lower_and_strip_punctuation\",\n",
    "        split=\"whitespace\",\n",
    "        ngrams=None,\n",
    "        output_mode=\"int\",\n",
    "        output_sequence_length=tammax,\n",
    "    )\n",
    "    tokenizer_layer.set_vocabulary(\n",
    "        embed_vocab\n",
    "    )  # we need to set it to follow the same input matrix\n",
    "\n",
    "    return tokenizer_layer, embed_matrix, embed_vocab"
   ]
  },
  {
   "cell_type": "code",
   "execution_count": 8,
   "metadata": {},
   "outputs": [],
   "source": [
    "def cria_modelo(\n",
    "    embed_matrix: np.ndarray,\n",
    "    tokenizer_layer: TextVectorization,\n",
    "    lstm_units: int,\n",
    "    use_birectional: bool,\n",
    "    dropout_rate: float,\n",
    ") -> keras.Model:\n",
    "    vocab_size = embed_matrix.shape[0]\n",
    "    embed_dim = embed_matrix.shape[1]\n",
    "    inputs = layers.Input(shape=(1,), dtype=tf.string, name=\"input_text\")\n",
    "    embedding_layer = layers.Embedding(\n",
    "        input_dim=vocab_size,\n",
    "        output_dim=embed_dim,\n",
    "        weights=[embed_matrix],\n",
    "        trainable=False\n",
    "    )\n",
    "    lstm_layer = tf.keras.layers.LSTM(units=lstm_units, \n",
    "                                      activation='tanh', \n",
    "                                      kernel_initializer='glorot_uniform',\n",
    "                                     )\n",
    "    bidirectional_layer = tf.keras.layers.Bidirectional(lstm_layer)\n",
    "    dropout_layer = layers.Dropout(dropout_rate)\n",
    "    output_layer = layers.Dense(6, activation=\"softmax\")\n",
    "\n",
    "    x = tokenizer_layer(inputs)\n",
    "    x = embedding_layer(x)\n",
    "    if use_birectional:\n",
    "        x = bidirectional_layer(x)\n",
    "    else:\n",
    "        x = lstm_layer(x)\n",
    "    x = dropout_layer(x)\n",
    "    outputs = output_layer(x)\n",
    "    model = keras.Model(inputs=inputs, outputs=outputs)\n",
    "    print(model.summary())\n",
    "    return model"
   ]
  },
  {
   "cell_type": "code",
   "execution_count": 10,
   "metadata": {},
   "outputs": [],
   "source": [
    "def treina_modelo(model: keras.Model, df_train: pd.DataFrame, df_val: pd.DataFrame):\n",
    "    batch_size = 32\n",
    "    steps_per_epoch = len(df_train) // batch_size\n",
    "    my_callbacks = [\n",
    "        tf.keras.callbacks.EarlyStopping(patience=1, restore_best_weights=True),\n",
    "        tf.keras.callbacks.ModelCheckpoint(\n",
    "            filepath=\"data/logs/mymodel_{epoch}\",\n",
    "            save_best_only=True,\n",
    "            monitor=\"val_loss\",\n",
    "        ),\n",
    "    ]\n",
    "    lr_schedule = tf.keras.optimizers.schedules.InverseTimeDecay(\n",
    "          0.001,\n",
    "          decay_steps=steps_per_epoch*50,\n",
    "          decay_rate=0.5,\n",
    "          staircase=False\n",
    "    )\n",
    "    \n",
    "    model.compile(\n",
    "        optimizer=tf.keras.optimizers.Adam(lr_schedule),\n",
    "        loss=\"sparse_categorical_crossentropy\",\n",
    "        metrics=[\"accuracy\"],\n",
    "    )\n",
    "    history = model.fit(\n",
    "        df_train[\"review_text\"].values,\n",
    "        df_train[\"overall_rating\"].values,\n",
    "        batch_size=batch_size,\n",
    "        epochs=100,\n",
    "        validation_data=(df_val[\"review_text\"].values, df_val[\"overall_rating\"].values),\n",
    "        validation_freq=5,\n",
    "        callbacks=my_callbacks,\n",
    "        workers=8,\n",
    "        shuffle=True,\n",
    "        verbose=1,\n",
    "    )\n",
    "    return history"
   ]
  },
  {
   "cell_type": "code",
   "execution_count": 11,
   "metadata": {},
   "outputs": [],
   "source": [
    "def aplica_treinamento(train_df, val_df, use_birectional, dropout_rate, embed_matrix):\n",
    "    print(\n",
    "        f\"Aplicando treinamento com birectional {use_birectional} \"\n",
    "        f\"e taxa de dropout em {dropout_rate}\"\n",
    "    )\n",
    "    model = cria_modelo(\n",
    "        embed_matrix,\n",
    "        tokenizer_layer,\n",
    "        lstm_units=32,\n",
    "        use_birectional=use_birectional,\n",
    "        dropout_rate=dropout_rate,\n",
    "    )\n",
    "    history = treina_modelo(model, train_df, val_df)\n",
    "    return history, model"
   ]
  },
  {
   "cell_type": "code",
   "execution_count": 12,
   "metadata": {},
   "outputs": [],
   "source": [
    "def executa_experimento(use_birectional, dropout_rate, train_df, val_df,test_df,embed_matrix):\n",
    "    history, model = aplica_treinamento(train_df, val_df, use_birectional, dropout_rate, embed_matrix)\n",
    "    plot_metrics(history, use_birectional, dropout_rate)\n",
    "    print(\"Avaliação nos dados de teste\")\n",
    "    results = model.evaluate(\n",
    "        test_df[\"review_text\"].values, test_df[\"overall_rating\"].values, batch_size=256\n",
    "    )\n",
    "    print(\"test loss, test acc:\", results)\n",
    "    return None"
   ]
  },
  {
   "cell_type": "code",
   "execution_count": 13,
   "metadata": {},
   "outputs": [],
   "source": [
    "def plot_metrics(history, use_birectional, dropout_rate):\n",
    "    # summarize history for loss\n",
    "    # Inspired from here:\n",
    "    # https://machinelearningmastery.com/display-deep-learning-model-training-history-in-keras/\n",
    "    plt.plot(history.history[\"loss\"])\n",
    "    epochs = range(4, len(history.history[\"loss\"]), 5)\n",
    "    plt.plot(epochs, history.history[\"val_loss\"])\n",
    "    plt.title(\n",
    "        f\"Gráfico de loss com bidrecional={use_birectional} e taxa de dropout={dropout_rate*100}%\"\n",
    "    )\n",
    "    plt.ylabel(\"loss\")\n",
    "    plt.xlabel(\"época\")\n",
    "    plt.legend([\"treinamento\", \"validação\"], loc=\"upper right\")\n",
    "    plt.savefig(\n",
    "        f\"data/learning_curve_bidirectional_{use_birectional}_dropout_rate_{dropout_rate}.png\"\n",
    "    )\n",
    "    plt.show()\n",
    "    return None"
   ]
  },
  {
   "cell_type": "code",
   "execution_count": 14,
   "metadata": {},
   "outputs": [
    {
     "data": {
      "application/vnd.jupyter.widget-view+json": {
       "model_id": "483a155cf47646de9c08fd86d5475670",
       "version_major": 2,
       "version_minor": 0
      },
      "text/plain": [
       "HBox(children=(FloatProgress(value=0.0, description='Preprocessing Embeddings from NILC file', max=929606.0, s…"
      ]
     },
     "metadata": {},
     "output_type": "display_data"
    },
    {
     "name": "stdout",
     "output_type": "stream",
     "text": [
      "word line 18578 is corrupt, skipping it.\n",
      "word line 344526 is corrupt, skipping it.\n",
      "word line 429810 is corrupt, skipping it.\n",
      "word line 471545 is corrupt, skipping it.\n",
      "word line 491022 is corrupt, skipping it.\n",
      "word line 514562 is corrupt, skipping it.\n",
      "word line 575944 is corrupt, skipping it.\n",
      "word line 648148 is corrupt, skipping it.\n",
      "word line 808734 is corrupt, skipping it.\n",
      "word line 818647 is corrupt, skipping it.\n",
      "\n"
     ]
    },
    {
     "name": "stderr",
     "output_type": "stream",
     "text": [
      "/Users/abarbosa/.pyenv/versions/nlportugues/lib/python3.7/site-packages/IPython/core/interactiveshell.py:3337: DtypeWarning: Columns (2) have mixed types.Specify dtype option on import or set low_memory=False.\n",
      "  if (await self.run_code(code, result,  async_=asy)):\n"
     ]
    }
   ],
   "source": [
    "preprocess_embedding_from_NILC(\"data/bow_s50.txt\", 50)\n",
    "partilha(\n",
    "    \"data/B2W-Reviews01.csv\",\n",
    "    train_proportion=0.8,\n",
    "    val_proportion=0.1,\n",
    "    test_proportion=0.1,\n",
    "    sep=';'\n",
    ")\n",
    "train_df = pd.read_csv(\"data/train.csv\")\n",
    "val_df = pd.read_csv(\"data/validation.csv\")\n",
    "test_df = pd.read_csv(\"data/test.csv\")"
   ]
  },
  {
   "cell_type": "code",
   "execution_count": 15,
   "metadata": {
    "slideshow": {
     "slide_type": "notes"
    }
   },
   "outputs": [
    {
     "data": {
      "application/vnd.jupyter.widget-view+json": {
       "model_id": "e143bf0e99b044e4806259494bc3ed22",
       "version_major": 2,
       "version_minor": 0
      },
      "text/plain": [
       "HBox(children=(FloatProgress(value=0.0, max=200000.0), HTML(value='')))"
      ]
     },
     "metadata": {},
     "output_type": "display_data"
    },
    {
     "name": "stdout",
     "output_type": "stream",
     "text": [
      "\n"
     ]
    }
   ],
   "source": [
    "tokenizer_layer ,embed_matrix, embed_vocab = codifica(\n",
    "    train_df_text=train_df[\"review_text\"], tammax=256, embed_dim=50\n",
    ")"
   ]
  },
  {
   "cell_type": "code",
   "execution_count": 17,
   "metadata": {},
   "outputs": [
    {
     "name": "stdout",
     "output_type": "stream",
     "text": [
      "Aplicando treinamento com birectional False e taxa de dropout em 0\n",
      "Model: \"model_1\"\n",
      "_________________________________________________________________\n",
      "Layer (type)                 Output Shape              Param #   \n",
      "=================================================================\n",
      "input_text (InputLayer)      [(None, 1)]               0         \n",
      "_________________________________________________________________\n",
      "text_vectorization (TextVect (None, 256)               0         \n",
      "_________________________________________________________________\n",
      "embedding_1 (Embedding)      (None, 256, 50)           46479700  \n",
      "_________________________________________________________________\n",
      "lstm_1 (LSTM)                (None, 32)                10624     \n",
      "_________________________________________________________________\n",
      "dropout_1 (Dropout)          (None, 32)                0         \n",
      "_________________________________________________________________\n",
      "dense_1 (Dense)              (None, 6)                 198       \n",
      "=================================================================\n",
      "Total params: 46,490,522\n",
      "Trainable params: 10,822\n",
      "Non-trainable params: 46,479,700\n",
      "_________________________________________________________________\n",
      "None\n",
      "Epoch 1/100\n",
      "3310/3310 [==============================] - 370s 112ms/step - loss: 1.4768 - accuracy: 0.3620\n",
      "Epoch 2/100\n",
      "3310/3310 [==============================] - 364s 110ms/step - loss: 1.4731 - accuracy: 0.3623\n",
      "Epoch 3/100\n",
      "3310/3310 [==============================] - 365s 110ms/step - loss: 1.4724 - accuracy: 0.3624\n",
      "Epoch 4/100\n",
      "3310/3310 [==============================] - 367s 111ms/step - loss: 1.4720 - accuracy: 0.3625\n",
      "Epoch 5/100\n",
      "3310/3310 [==============================] - 386s 117ms/step - loss: 1.4719 - accuracy: 0.3625 - val_loss: 1.4716 - val_accuracy: 0.3625\n",
      "Epoch 6/100\n",
      "3310/3310 [==============================] - 376s 113ms/step - loss: 1.4718 - accuracy: 0.3626\n",
      "Epoch 7/100\n",
      "3310/3310 [==============================] - 372s 112ms/step - loss: 1.4716 - accuracy: 0.3626\n",
      "Epoch 8/100\n",
      "3310/3310 [==============================] - 372s 112ms/step - loss: 1.4713 - accuracy: 0.3626\n",
      "Epoch 9/100\n",
      "3310/3310 [==============================] - 376s 114ms/step - loss: 1.4715 - accuracy: 0.3622\n",
      "Epoch 10/100\n",
      "3310/3310 [==============================] - 389s 117ms/step - loss: 1.4713 - accuracy: 0.3627 - val_loss: 1.4710 - val_accuracy: 0.3626\n",
      "Epoch 11/100\n",
      "3310/3310 [==============================] - 374s 113ms/step - loss: 1.4709 - accuracy: 0.3627\n",
      "Epoch 12/100\n",
      "3310/3310 [==============================] - 377s 114ms/step - loss: 1.4710 - accuracy: 0.3628\n",
      "Epoch 13/100\n",
      "3310/3310 [==============================] - 374s 113ms/step - loss: 1.4708 - accuracy: 0.3628\n",
      "Epoch 14/100\n",
      "3310/3310 [==============================] - 373s 113ms/step - loss: 1.4710 - accuracy: 0.3628\n",
      "Epoch 15/100\n",
      "3310/3310 [==============================] - 390s 118ms/step - loss: 1.4709 - accuracy: 0.3628 - val_loss: 1.4709 - val_accuracy: 0.3627\n",
      "Epoch 16/100\n",
      "3310/3310 [==============================] - 379s 114ms/step - loss: 1.4594 - accuracy: 0.3638\n",
      "Epoch 17/100\n",
      "3310/3310 [==============================] - 381s 115ms/step - loss: 1.4301 - accuracy: 0.3714\n",
      "Epoch 18/100\n",
      "3310/3310 [==============================] - 377s 114ms/step - loss: 1.4323 - accuracy: 0.3976\n",
      "Epoch 19/100\n",
      "3310/3310 [==============================] - 378s 114ms/step - loss: 1.4114 - accuracy: 0.4181\n",
      "Epoch 20/100\n",
      "3310/3310 [==============================] - 392s 119ms/step - loss: 1.4334 - accuracy: 0.3929 - val_loss: 1.3803 - val_accuracy: 0.4323\n",
      "Epoch 21/100\n",
      "3310/3310 [==============================] - 378s 114ms/step - loss: 1.4271 - accuracy: 0.4061\n",
      "Epoch 22/100\n",
      "3310/3310 [==============================] - 379s 114ms/step - loss: 1.4300 - accuracy: 0.4048\n",
      "Epoch 23/100\n",
      "3310/3310 [==============================] - 377s 114ms/step - loss: 1.4411 - accuracy: 0.3930\n",
      "Epoch 24/100\n",
      "3310/3310 [==============================] - 379s 115ms/step - loss: 1.3874 - accuracy: 0.4168\n",
      "Epoch 25/100\n",
      "3310/3310 [==============================] - 395s 119ms/step - loss: 1.3753 - accuracy: 0.4225 - val_loss: 1.3929 - val_accuracy: 0.4342\n"
     ]
    },
    {
     "data": {
      "image/png": "[encoded data removed]",
      "text/plain": [
       "<Figure size 432x288 with 1 Axes>"
      ]
     },
     "metadata": {
      "needs_background": "light"
     },
     "output_type": "display_data"
    },
    {
     "name": "stdout",
     "output_type": "stream",
     "text": [
      "Avaliação nos dados de teste\n",
      "52/52 [==============================] - 5s 102ms/step - loss: 1.3782 - accuracy: 0.4344\n",
      "test loss, test acc: [1.378233790397644, 0.43443119525909424]\n"
     ]
    }
   ],
   "source": [
    "executa_experimento(False,0, train_df, val_df, test_df, embed_matrix)"
   ]
  },
  {
   "cell_type": "code",
   "execution_count": 18,
   "metadata": {},
   "outputs": [
    {
     "name": "stdout",
     "output_type": "stream",
     "text": [
      "Aplicando treinamento com birectional False e taxa de dropout em 0.25\n",
      "Model: \"model_2\"\n",
      "_________________________________________________________________\n",
      "Layer (type)                 Output Shape              Param #   \n",
      "=================================================================\n",
      "input_text (InputLayer)      [(None, 1)]               0         \n",
      "_________________________________________________________________\n",
      "text_vectorization (TextVect (None, 256)               0         \n",
      "_________________________________________________________________\n",
      "embedding_2 (Embedding)      (None, 256, 50)           46479700  \n",
      "_________________________________________________________________\n",
      "lstm_2 (LSTM)                (None, 32)                10624     \n",
      "_________________________________________________________________\n",
      "dropout_2 (Dropout)          (None, 32)                0         \n",
      "_________________________________________________________________\n",
      "dense_2 (Dense)              (None, 6)                 198       \n",
      "=================================================================\n",
      "Total params: 46,490,522\n",
      "Trainable params: 10,822\n",
      "Non-trainable params: 46,479,700\n",
      "_________________________________________________________________\n",
      "None\n",
      "Epoch 1/100\n",
      "3310/3310 [==============================] - 319s 96ms/step - loss: 1.4837 - accuracy: 0.3591\n",
      "Epoch 2/100\n",
      "3310/3310 [==============================] - 300s 91ms/step - loss: 1.4733 - accuracy: 0.3623\n",
      "Epoch 3/100\n",
      "3310/3310 [==============================] - 317s 96ms/step - loss: 1.4725 - accuracy: 0.3623\n",
      "Epoch 4/100\n",
      "3310/3310 [==============================] - 291s 88ms/step - loss: 1.4720 - accuracy: 0.3623\n",
      "Epoch 5/100\n",
      "3310/3310 [==============================] - 305s 92ms/step - loss: 1.4716 - accuracy: 0.3624 - val_loss: 1.4708 - val_accuracy: 0.3624\n",
      "Epoch 6/100\n",
      "3310/3310 [==============================] - 297s 90ms/step - loss: 1.4718 - accuracy: 0.3624\n",
      "Epoch 7/100\n",
      "3310/3310 [==============================] - 297s 90ms/step - loss: 1.4714 - accuracy: 0.3625\n",
      "Epoch 8/100\n",
      "3310/3310 [==============================] - 298s 90ms/step - loss: 1.4711 - accuracy: 0.3625\n",
      "Epoch 9/100\n",
      "3310/3310 [==============================] - 298s 90ms/step - loss: 1.4712 - accuracy: 0.3626\n",
      "Epoch 10/100\n",
      "3310/3310 [==============================] - 306s 92ms/step - loss: 1.4709 - accuracy: 0.3626 - val_loss: 1.4708 - val_accuracy: 0.3625\n"
     ]
    },
    {
     "data": {
      "image/png": "[encoded data removed]",
      "text/plain": [
       "<Figure size 432x288 with 1 Axes>"
      ]
     },
     "metadata": {
      "needs_background": "light"
     },
     "output_type": "display_data"
    },
    {
     "name": "stdout",
     "output_type": "stream",
     "text": [
      "Avaliação nos dados de teste\n",
      "52/52 [==============================] - 5s 94ms/step - loss: 1.4709 - accuracy: 0.3623\n",
      "test loss, test acc: [1.4709383249282837, 0.3622903823852539]\n"
     ]
    }
   ],
   "source": [
    "executa_experimento(False,0.25, train_df, val_df,test_df, embed_matrix)"
   ]
  },
  {
   "cell_type": "code",
   "execution_count": 19,
   "metadata": {},
   "outputs": [
    {
     "name": "stdout",
     "output_type": "stream",
     "text": [
      "Aplicando treinamento com birectional False e taxa de dropout em 0.5\n",
      "Model: \"model_3\"\n",
      "_________________________________________________________________\n",
      "Layer (type)                 Output Shape              Param #   \n",
      "=================================================================\n",
      "input_text (InputLayer)      [(None, 1)]               0         \n",
      "_________________________________________________________________\n",
      "text_vectorization (TextVect (None, 256)               0         \n",
      "_________________________________________________________________\n",
      "embedding_3 (Embedding)      (None, 256, 50)           46479700  \n",
      "_________________________________________________________________\n",
      "lstm_3 (LSTM)                (None, 32)                10624     \n",
      "_________________________________________________________________\n",
      "dropout_3 (Dropout)          (None, 32)                0         \n",
      "_________________________________________________________________\n",
      "dense_3 (Dense)              (None, 6)                 198       \n",
      "=================================================================\n",
      "Total params: 46,490,522\n",
      "Trainable params: 10,822\n",
      "Non-trainable params: 46,479,700\n",
      "_________________________________________________________________\n",
      "None\n",
      "Epoch 1/100\n",
      "3310/3310 [==============================] - 318s 96ms/step - loss: 1.4879 - accuracy: 0.3595\n",
      "Epoch 2/100\n",
      "3310/3310 [==============================] - 293s 89ms/step - loss: 1.4742 - accuracy: 0.3623\n",
      "Epoch 3/100\n",
      "3310/3310 [==============================] - 294s 89ms/step - loss: 1.4728 - accuracy: 0.3624\n",
      "Epoch 4/100\n",
      "3310/3310 [==============================] - 294s 89ms/step - loss: 1.4721 - accuracy: 0.3624\n",
      "Epoch 5/100\n",
      "3310/3310 [==============================] - 310s 94ms/step - loss: 1.4714 - accuracy: 0.3625 - val_loss: 1.4712 - val_accuracy: 0.3625\n",
      "Epoch 6/100\n",
      "3310/3310 [==============================] - 300s 91ms/step - loss: 1.4716 - accuracy: 0.3623\n",
      "Epoch 7/100\n",
      "3310/3310 [==============================] - 299s 90ms/step - loss: 1.4715 - accuracy: 0.3622\n",
      "Epoch 8/100\n",
      "3310/3310 [==============================] - 299s 90ms/step - loss: 1.4719 - accuracy: 0.3620\n",
      "Epoch 9/100\n",
      "3310/3310 [==============================] - 299s 90ms/step - loss: 1.4714 - accuracy: 0.3623\n",
      "Epoch 10/100\n",
      "3310/3310 [==============================] - 312s 94ms/step - loss: 1.4712 - accuracy: 0.3623 - val_loss: 1.4708 - val_accuracy: 0.3625\n",
      "Epoch 11/100\n",
      "3310/3310 [==============================] - 299s 90ms/step - loss: 1.4717 - accuracy: 0.3621\n",
      "Epoch 12/100\n",
      "3310/3310 [==============================] - 299s 90ms/step - loss: 1.4712 - accuracy: 0.3623\n",
      "Epoch 13/100\n",
      "3310/3310 [==============================] - 299s 90ms/step - loss: 1.3893 - accuracy: 0.4162\n",
      "Epoch 14/100\n",
      "3310/3310 [==============================] - 296s 89ms/step - loss: 1.2224 - accuracy: 0.4987\n",
      "Epoch 15/100\n",
      "3310/3310 [==============================] - 310s 94ms/step - loss: 1.1321 - accuracy: 0.5215 - val_loss: 1.1019 - val_accuracy: 0.5286\n",
      "Epoch 16/100\n",
      "3310/3310 [==============================] - 293s 88ms/step - loss: 1.0884 - accuracy: 0.5310\n",
      "Epoch 17/100\n",
      "3310/3310 [==============================] - 293s 88ms/step - loss: 1.0649 - accuracy: 0.5370\n",
      "Epoch 18/100\n",
      "3310/3310 [==============================] - 293s 88ms/step - loss: 1.0451 - accuracy: 0.5447\n",
      "Epoch 19/100\n",
      "3310/3310 [==============================] - 292s 88ms/step - loss: 1.0310 - accuracy: 0.5514\n",
      "Epoch 20/100\n",
      "3310/3310 [==============================] - 306s 93ms/step - loss: 1.0169 - accuracy: 0.5564 - val_loss: 1.0104 - val_accuracy: 0.5588\n",
      "Epoch 21/100\n",
      "3310/3310 [==============================] - 294s 89ms/step - loss: 1.0064 - accuracy: 0.5610\n",
      "Epoch 22/100\n",
      "3310/3310 [==============================] - 294s 89ms/step - loss: 0.9983 - accuracy: 0.5663\n",
      "Epoch 23/100\n",
      "3310/3310 [==============================] - 294s 89ms/step - loss: 0.9906 - accuracy: 0.5696\n",
      "Epoch 24/100\n",
      "3310/3310 [==============================] - 295s 89ms/step - loss: 0.9835 - accuracy: 0.5736\n",
      "Epoch 25/100\n",
      "3310/3310 [==============================] - 309s 93ms/step - loss: 0.9780 - accuracy: 0.5772 - val_loss: 0.9867 - val_accuracy: 0.5731\n",
      "Epoch 26/100\n",
      "3310/3310 [==============================] - 292s 88ms/step - loss: 0.9738 - accuracy: 0.5795\n",
      "Epoch 27/100\n",
      "3310/3310 [==============================] - 291s 88ms/step - loss: 0.9642 - accuracy: 0.5828\n",
      "Epoch 28/100\n",
      "3310/3310 [==============================] - 291s 88ms/step - loss: 0.9586 - accuracy: 0.5843\n",
      "Epoch 29/100\n",
      "3310/3310 [==============================] - 290s 88ms/step - loss: 0.9532 - accuracy: 0.5886\n",
      "Epoch 30/100\n",
      "3310/3310 [==============================] - 307s 93ms/step - loss: 0.9463 - accuracy: 0.5914 - val_loss: 0.9588 - val_accuracy: 0.5909\n",
      "Epoch 31/100\n",
      "3310/3310 [==============================] - 304s 92ms/step - loss: 0.9427 - accuracy: 0.5922\n",
      "Epoch 32/100\n",
      "3310/3310 [==============================] - 320s 97ms/step - loss: 0.9383 - accuracy: 0.5944\n",
      "Epoch 33/100\n",
      "3310/3310 [==============================] - 319s 96ms/step - loss: 0.9356 - accuracy: 0.5954\n",
      "Epoch 34/100\n",
      "3310/3310 [==============================] - 319s 96ms/step - loss: 0.9309 - accuracy: 0.5980\n",
      "Epoch 35/100\n",
      "3310/3310 [==============================] - 334s 101ms/step - loss: 0.9284 - accuracy: 0.5990 - val_loss: 0.9540 - val_accuracy: 0.5942\n",
      "Epoch 36/100\n",
      "3310/3310 [==============================] - 321s 97ms/step - loss: 0.9246 - accuracy: 0.6018\n",
      "Epoch 37/100\n",
      "3310/3310 [==============================] - 298s 90ms/step - loss: 0.9218 - accuracy: 0.6006\n",
      "Epoch 38/100\n",
      "3310/3310 [==============================] - 293s 89ms/step - loss: 0.9196 - accuracy: 0.6015\n",
      "Epoch 39/100\n",
      "3310/3310 [==============================] - 293s 89ms/step - loss: 0.9179 - accuracy: 0.6017\n",
      "Epoch 40/100\n",
      "3310/3310 [==============================] - 308s 93ms/step - loss: 0.9149 - accuracy: 0.6034 - val_loss: 0.9521 - val_accuracy: 0.5955\n",
      "Epoch 41/100\n",
      "3310/3310 [==============================] - 295s 89ms/step - loss: 0.9129 - accuracy: 0.6041\n",
      "Epoch 42/100\n",
      "3310/3310 [==============================] - 295s 89ms/step - loss: 0.9088 - accuracy: 0.6060\n",
      "Epoch 43/100\n",
      "3310/3310 [==============================] - 295s 89ms/step - loss: 0.9083 - accuracy: 0.6070\n",
      "Epoch 44/100\n",
      "3310/3310 [==============================] - 296s 89ms/step - loss: 0.9058 - accuracy: 0.6081\n",
      "Epoch 45/100\n",
      "3310/3310 [==============================] - 308s 93ms/step - loss: 0.9043 - accuracy: 0.6076 - val_loss: 0.9484 - val_accuracy: 0.5959\n",
      "Epoch 46/100\n",
      "3310/3310 [==============================] - 294s 89ms/step - loss: 0.9015 - accuracy: 0.6086\n",
      "Epoch 47/100\n",
      "3310/3310 [==============================] - 294s 89ms/step - loss: 0.9008 - accuracy: 0.6079\n",
      "Epoch 48/100\n",
      "3310/3310 [==============================] - 293s 89ms/step - loss: 0.8996 - accuracy: 0.6082\n",
      "Epoch 49/100\n",
      "3310/3310 [==============================] - 294s 89ms/step - loss: 0.8963 - accuracy: 0.6090\n",
      "Epoch 50/100\n",
      "3310/3310 [==============================] - 301s 91ms/step - loss: 0.8961 - accuracy: 0.6105 - val_loss: 0.9539 - val_accuracy: 0.5969\n"
     ]
    },
    {
     "data": {
      "image/png": "[encoded data removed]",
      "text/plain": [
       "<Figure size 432x288 with 1 Axes>"
      ]
     },
     "metadata": {
      "needs_background": "light"
     },
     "output_type": "display_data"
    },
    {
     "name": "stdout",
     "output_type": "stream",
     "text": [
      "Avaliação nos dados de teste\n",
      "52/52 [==============================] - 5s 88ms/step - loss: 0.9535 - accuracy: 0.5926\n",
      "test loss, test acc: [0.9534534811973572, 0.5926121473312378]\n"
     ]
    }
   ],
   "source": [
    "executa_experimento(False,0.5, train_df, val_df,test_df, embed_matrix)"
   ]
  },
  {
   "cell_type": "code",
   "execution_count": 20,
   "metadata": {},
   "outputs": [
    {
     "name": "stdout",
     "output_type": "stream",
     "text": [
      "Aplicando treinamento com birectional True e taxa de dropout em 0\n",
      "Model: \"model_4\"\n",
      "_________________________________________________________________\n",
      "Layer (type)                 Output Shape              Param #   \n",
      "=================================================================\n",
      "input_text (InputLayer)      [(None, 1)]               0         \n",
      "_________________________________________________________________\n",
      "text_vectorization (TextVect (None, 256)               0         \n",
      "_________________________________________________________________\n",
      "embedding_4 (Embedding)      (None, 256, 50)           46479700  \n",
      "_________________________________________________________________\n",
      "bidirectional_4 (Bidirection (None, 64)                21248     \n",
      "_________________________________________________________________\n",
      "dropout_4 (Dropout)          (None, 64)                0         \n",
      "_________________________________________________________________\n",
      "dense_4 (Dense)              (None, 6)                 390       \n",
      "=================================================================\n",
      "Total params: 46,501,338\n",
      "Trainable params: 21,638\n",
      "Non-trainable params: 46,479,700\n",
      "_________________________________________________________________\n",
      "None\n",
      "Epoch 1/100\n",
      "3310/3310 [==============================] - 422s 127ms/step - loss: 1.1454 - accuracy: 0.5180\n",
      "Epoch 2/100\n",
      "3310/3310 [==============================] - 395s 119ms/step - loss: 1.0243 - accuracy: 0.5644\n",
      "Epoch 3/100\n",
      "3310/3310 [==============================] - 395s 119ms/step - loss: 0.9921 - accuracy: 0.5760\n",
      "Epoch 4/100\n",
      "3310/3310 [==============================] - 396s 120ms/step - loss: 0.9627 - accuracy: 0.5879\n",
      "Epoch 5/100\n",
      "3310/3310 [==============================] - 419s 126ms/step - loss: 0.9469 - accuracy: 0.5927 - val_loss: 0.9544 - val_accuracy: 0.5910\n",
      "Epoch 6/100\n",
      "3310/3310 [==============================] - 398s 120ms/step - loss: 0.9346 - accuracy: 0.5981\n",
      "Epoch 7/100\n",
      "3310/3310 [==============================] - 401s 121ms/step - loss: 0.9246 - accuracy: 0.6017\n",
      "Epoch 8/100\n",
      "3310/3310 [==============================] - 400s 121ms/step - loss: 0.9389 - accuracy: 0.5964\n",
      "Epoch 9/100\n",
      "3310/3310 [==============================] - 401s 121ms/step - loss: 0.9151 - accuracy: 0.6052\n",
      "Epoch 10/100\n",
      "3310/3310 [==============================] - 425s 128ms/step - loss: 0.9063 - accuracy: 0.6082 - val_loss: 0.9430 - val_accuracy: 0.5989\n",
      "Epoch 11/100\n",
      "3310/3310 [==============================] - 395s 119ms/step - loss: 0.9014 - accuracy: 0.6097\n",
      "Epoch 12/100\n",
      "3310/3310 [==============================] - 398s 120ms/step - loss: 0.8969 - accuracy: 0.6121\n",
      "Epoch 13/100\n",
      "3310/3310 [==============================] - 396s 120ms/step - loss: 0.8921 - accuracy: 0.6131\n",
      "Epoch 14/100\n",
      "3310/3310 [==============================] - 397s 120ms/step - loss: 0.8876 - accuracy: 0.6150\n",
      "Epoch 15/100\n",
      "3310/3310 [==============================] - 423s 128ms/step - loss: 0.8839 - accuracy: 0.6167 - val_loss: 0.9258 - val_accuracy: 0.6019\n",
      "Epoch 16/100\n",
      "3310/3310 [==============================] - 400s 121ms/step - loss: 0.8801 - accuracy: 0.6180\n",
      "Epoch 17/100\n",
      "3310/3310 [==============================] - 403s 122ms/step - loss: 0.8772 - accuracy: 0.6200\n",
      "Epoch 18/100\n",
      "3310/3310 [==============================] - 404s 122ms/step - loss: 0.8742 - accuracy: 0.6205\n",
      "Epoch 19/100\n",
      "3310/3310 [==============================] - 404s 122ms/step - loss: 0.8704 - accuracy: 0.6210\n",
      "Epoch 20/100\n",
      "3310/3310 [==============================] - 427s 129ms/step - loss: 0.8706 - accuracy: 0.6219 - val_loss: 0.9246 - val_accuracy: 0.6000\n",
      "Epoch 21/100\n",
      "3310/3310 [==============================] - 399s 121ms/step - loss: 0.8663 - accuracy: 0.6231\n",
      "Epoch 22/100\n",
      "3310/3310 [==============================] - 407s 123ms/step - loss: 0.8644 - accuracy: 0.6250\n",
      "Epoch 23/100\n",
      "3310/3310 [==============================] - 402s 122ms/step - loss: 0.8617 - accuracy: 0.6246\n",
      "Epoch 24/100\n",
      "3310/3310 [==============================] - 404s 122ms/step - loss: 0.8587 - accuracy: 0.6265\n",
      "Epoch 25/100\n",
      "3310/3310 [==============================] - 415s 125ms/step - loss: 0.8574 - accuracy: 0.6270 - val_loss: 0.9303 - val_accuracy: 0.6018\n"
     ]
    },
    {
     "data": {
      "image/png": "[encoded data removed]",
      "text/plain": [
       "<Figure size 432x288 with 1 Axes>"
      ]
     },
     "metadata": {
      "needs_background": "light"
     },
     "output_type": "display_data"
    },
    {
     "name": "stdout",
     "output_type": "stream",
     "text": [
      "Avaliação nos dados de teste\n",
      "52/52 [==============================] - 6s 121ms/step - loss: 0.9365 - accuracy: 0.5987\n",
      "test loss, test acc: [0.9365160465240479, 0.5986554026603699]\n"
     ]
    }
   ],
   "source": [
    "executa_experimento(True,0, train_df, val_df,test_df, embed_matrix)"
   ]
  },
  {
   "cell_type": "code",
   "execution_count": 21,
   "metadata": {},
   "outputs": [
    {
     "name": "stdout",
     "output_type": "stream",
     "text": [
      "Aplicando treinamento com birectional True e taxa de dropout em 0.25\n",
      "Model: \"model_5\"\n",
      "_________________________________________________________________\n",
      "Layer (type)                 Output Shape              Param #   \n",
      "=================================================================\n",
      "input_text (InputLayer)      [(None, 1)]               0         \n",
      "_________________________________________________________________\n",
      "text_vectorization (TextVect (None, 256)               0         \n",
      "_________________________________________________________________\n",
      "embedding_5 (Embedding)      (None, 256, 50)           46479700  \n",
      "_________________________________________________________________\n",
      "bidirectional_5 (Bidirection (None, 64)                21248     \n",
      "_________________________________________________________________\n",
      "dropout_5 (Dropout)          (None, 64)                0         \n",
      "_________________________________________________________________\n",
      "dense_5 (Dense)              (None, 6)                 390       \n",
      "=================================================================\n",
      "Total params: 46,501,338\n",
      "Trainable params: 21,638\n",
      "Non-trainable params: 46,479,700\n",
      "_________________________________________________________________\n",
      "None\n",
      "Epoch 1/100\n",
      "3310/3310 [==============================] - 395s 119ms/step - loss: 1.1565 - accuracy: 0.5131\n",
      "Epoch 2/100\n",
      "3310/3310 [==============================] - 397s 120ms/step - loss: 1.0313 - accuracy: 0.5620\n",
      "Epoch 3/100\n",
      "3310/3310 [==============================] - 397s 120ms/step - loss: 0.9953 - accuracy: 0.5748\n",
      "Epoch 4/100\n",
      "3310/3310 [==============================] - 401s 121ms/step - loss: 0.9757 - accuracy: 0.5824\n",
      "Epoch 5/100\n",
      "3310/3310 [==============================] - 428s 129ms/step - loss: 0.9604 - accuracy: 0.5876 - val_loss: 0.9630 - val_accuracy: 0.5896\n",
      "Epoch 6/100\n",
      "3310/3310 [==============================] - 391s 118ms/step - loss: 0.9497 - accuracy: 0.5914\n",
      "Epoch 7/100\n",
      "3310/3310 [==============================] - 390s 118ms/step - loss: 0.9417 - accuracy: 0.5946\n",
      "Epoch 8/100\n",
      "3310/3310 [==============================] - 390s 118ms/step - loss: 0.9349 - accuracy: 0.5968\n",
      "Epoch 9/100\n",
      "3310/3310 [==============================] - 396s 119ms/step - loss: 0.9329 - accuracy: 0.5980\n",
      "Epoch 10/100\n",
      "3310/3310 [==============================] - 448s 135ms/step - loss: 0.9244 - accuracy: 0.5995 - val_loss: 0.9411 - val_accuracy: 0.5998\n",
      "Epoch 11/100\n",
      "3310/3310 [==============================] - 447s 135ms/step - loss: 0.9214 - accuracy: 0.6006\n",
      "Epoch 12/100\n",
      "3310/3310 [==============================] - 444s 134ms/step - loss: 0.9152 - accuracy: 0.6028\n",
      "Epoch 13/100\n",
      "3310/3310 [==============================] - 447s 135ms/step - loss: 0.9118 - accuracy: 0.6045\n",
      "Epoch 14/100\n",
      "3310/3310 [==============================] - 447s 135ms/step - loss: 0.9103 - accuracy: 0.6051\n",
      "Epoch 15/100\n",
      "3310/3310 [==============================] - 481s 145ms/step - loss: 0.9054 - accuracy: 0.6069 - val_loss: 0.9375 - val_accuracy: 0.6008\n",
      "Epoch 16/100\n",
      "3310/3310 [==============================] - 439s 133ms/step - loss: 0.9025 - accuracy: 0.6090\n",
      "Epoch 17/100\n",
      "3310/3310 [==============================] - 444s 134ms/step - loss: 0.9009 - accuracy: 0.6092\n",
      "Epoch 18/100\n",
      "3310/3310 [==============================] - 447s 135ms/step - loss: 0.8989 - accuracy: 0.6099\n",
      "Epoch 19/100\n",
      "3310/3310 [==============================] - 446s 135ms/step - loss: 0.8948 - accuracy: 0.6117\n",
      "Epoch 20/100\n",
      "3310/3310 [==============================] - 513s 155ms/step - loss: 0.8939 - accuracy: 0.6113 - val_loss: 0.9270 - val_accuracy: 0.6032\n",
      "Epoch 21/100\n",
      "3310/3310 [==============================] - 512s 155ms/step - loss: 0.8916 - accuracy: 0.6126\n",
      "Epoch 22/100\n",
      "3310/3310 [==============================] - 443s 134ms/step - loss: 0.8881 - accuracy: 0.6146\n",
      "Epoch 23/100\n",
      "3310/3310 [==============================] - 431s 130ms/step - loss: 0.8877 - accuracy: 0.6139\n",
      "Epoch 24/100\n",
      "3310/3310 [==============================] - 427s 129ms/step - loss: 0.8895 - accuracy: 0.6144\n",
      "Epoch 25/100\n",
      "3310/3310 [==============================] - 443s 134ms/step - loss: 0.8835 - accuracy: 0.6155 - val_loss: 0.9283 - val_accuracy: 0.6022\n"
     ]
    },
    {
     "data": {
      "image/png": "[encoded data removed]",
      "text/plain": [
       "<Figure size 432x288 with 1 Axes>"
      ]
     },
     "metadata": {
      "needs_background": "light"
     },
     "output_type": "display_data"
    },
    {
     "name": "stdout",
     "output_type": "stream",
     "text": [
      "Avaliação nos dados de teste\n",
      "52/52 [==============================] - 7s 141ms/step - loss: 0.9307 - accuracy: 0.6016\n",
      "test loss, test acc: [0.9307276010513306, 0.6016014218330383]\n"
     ]
    }
   ],
   "source": [
    "executa_experimento(True,0.25, train_df, val_df,test_df, embed_matrix)"
   ]
  },
  {
   "cell_type": "code",
   "execution_count": 22,
   "metadata": {},
   "outputs": [
    {
     "name": "stdout",
     "output_type": "stream",
     "text": [
      "Aplicando treinamento com birectional True e taxa de dropout em 0.5\n",
      "Model: \"model_6\"\n",
      "_________________________________________________________________\n",
      "Layer (type)                 Output Shape              Param #   \n",
      "=================================================================\n",
      "input_text (InputLayer)      [(None, 1)]               0         \n",
      "_________________________________________________________________\n",
      "text_vectorization (TextVect (None, 256)               0         \n",
      "_________________________________________________________________\n",
      "embedding_6 (Embedding)      (None, 256, 50)           46479700  \n",
      "_________________________________________________________________\n",
      "bidirectional_6 (Bidirection (None, 64)                21248     \n",
      "_________________________________________________________________\n",
      "dropout_6 (Dropout)          (None, 64)                0         \n",
      "_________________________________________________________________\n",
      "dense_6 (Dense)              (None, 6)                 390       \n",
      "=================================================================\n",
      "Total params: 46,501,338\n",
      "Trainable params: 21,638\n",
      "Non-trainable params: 46,479,700\n",
      "_________________________________________________________________\n",
      "None\n",
      "Epoch 1/100\n",
      "3310/3310 [==============================] - 439s 133ms/step - loss: 1.1837 - accuracy: 0.5052\n",
      "Epoch 2/100\n",
      "3310/3310 [==============================] - 430s 130ms/step - loss: 1.0617 - accuracy: 0.5505\n",
      "Epoch 3/100\n",
      "3310/3310 [==============================] - 431s 130ms/step - loss: 1.0300 - accuracy: 0.5642\n",
      "Epoch 4/100\n",
      "3310/3310 [==============================] - 427s 129ms/step - loss: 1.0047 - accuracy: 0.5725\n",
      "Epoch 5/100\n",
      "3310/3310 [==============================] - 461s 139ms/step - loss: 0.9927 - accuracy: 0.5774 - val_loss: 0.9798 - val_accuracy: 0.5843\n",
      "Epoch 6/100\n",
      "3310/3310 [==============================] - 430s 130ms/step - loss: 0.9794 - accuracy: 0.5806\n",
      "Epoch 7/100\n",
      "3310/3310 [==============================] - 433s 131ms/step - loss: 0.9721 - accuracy: 0.5840\n",
      "Epoch 8/100\n",
      "3310/3310 [==============================] - 430s 130ms/step - loss: 0.9661 - accuracy: 0.5864\n",
      "Epoch 9/100\n",
      "3310/3310 [==============================] - 502s 152ms/step - loss: 1.0005 - accuracy: 0.5758\n",
      "Epoch 10/100\n",
      "3310/3310 [==============================] - 582s 176ms/step - loss: 0.9887 - accuracy: 0.5792 - val_loss: 0.9615 - val_accuracy: 0.5911\n",
      "Epoch 11/100\n",
      "3310/3310 [==============================] - 460s 139ms/step - loss: 0.9637 - accuracy: 0.5884\n",
      "Epoch 12/100\n",
      "3310/3310 [==============================] - 547s 165ms/step - loss: 0.9540 - accuracy: 0.5917\n",
      "Epoch 13/100\n",
      "3310/3310 [==============================] - 524s 158ms/step - loss: 0.9485 - accuracy: 0.5923\n",
      "Epoch 14/100\n",
      "3310/3310 [==============================] - 506s 153ms/step - loss: 0.9424 - accuracy: 0.5948\n",
      "Epoch 15/100\n",
      "3310/3310 [==============================] - 548s 166ms/step - loss: 0.9394 - accuracy: 0.5970 - val_loss: 0.9396 - val_accuracy: 0.5957\n",
      "Epoch 16/100\n",
      "3310/3310 [==============================] - 420s 127ms/step - loss: 0.9355 - accuracy: 0.5979\n",
      "Epoch 17/100\n",
      "3310/3310 [==============================] - 385s 116ms/step - loss: 0.9323 - accuracy: 0.5980\n",
      "Epoch 18/100\n",
      "3310/3310 [==============================] - 400s 121ms/step - loss: 0.9287 - accuracy: 0.6000\n",
      "Epoch 19/100\n",
      "3310/3310 [==============================] - 448s 135ms/step - loss: 0.9289 - accuracy: 0.6004\n",
      "Epoch 20/100\n",
      "3310/3310 [==============================] - 426s 129ms/step - loss: 0.9250 - accuracy: 0.6028 - val_loss: 0.9340 - val_accuracy: 0.5971\n",
      "Epoch 21/100\n",
      "3310/3310 [==============================] - 389s 118ms/step - loss: 0.9264 - accuracy: 0.6012\n",
      "Epoch 22/100\n",
      "3310/3310 [==============================] - 385s 116ms/step - loss: 0.9206 - accuracy: 0.6028\n",
      "Epoch 23/100\n",
      "3310/3310 [==============================] - 385s 116ms/step - loss: 0.9194 - accuracy: 0.6037\n",
      "Epoch 24/100\n",
      "3310/3310 [==============================] - 396s 120ms/step - loss: 0.9167 - accuracy: 0.6048\n",
      "Epoch 25/100\n",
      "3310/3310 [==============================] - 390s 118ms/step - loss: 0.9166 - accuracy: 0.6050 - val_loss: 0.9352 - val_accuracy: 0.5923\n"
     ]
    },
    {
     "data": {
      "image/png": "[encoded data removed]",
      "text/plain": [
       "<Figure size 432x288 with 1 Axes>"
      ]
     },
     "metadata": {
      "needs_background": "light"
     },
     "output_type": "display_data"
    },
    {
     "name": "stdout",
     "output_type": "stream",
     "text": [
      "Avaliação nos dados de teste\n",
      "52/52 [==============================] - 6s 109ms/step - loss: 0.9345 - accuracy: 0.5996\n",
      "test loss, test acc: [0.9344512224197388, 0.5996373891830444]\n"
     ]
    }
   ],
   "source": [
    "executa_experimento(True,0.5, train_df, val_df,test_df, embed_matrix)"
   ]
  }
 ],
 "metadata": {
  "colab": {
   "collapsed_sections": [],
   "name": "Cópia de text_classification_with_transformer",
   "provenance": [],
   "toc_visible": true
  },
  "kernelspec": {
   "display_name": "nlportugues",
   "language": "python",
   "name": "nlportugues"
  },
  "language_info": {
   "codemirror_mode": {
    "name": "ipython",
    "version": 3
   },
   "file_extension": ".py",
   "mimetype": "text/x-python",
   "name": "python",
   "nbconvert_exporter": "python",
   "pygments_lexer": "ipython3",
   "version": "3.7.2"
  },
  "toc": {
   "base_numbering": 1,
   "nav_menu": {},
   "number_sections": true,
   "sideBar": true,
   "skip_h1_title": false,
   "title_cell": "Table of Contents",
   "title_sidebar": "Contents",
   "toc_cell": false,
   "toc_position": {},
   "toc_section_display": true,
   "toc_window_display": false
  }
 },
 "nbformat": 4,
 "nbformat_minor": 1
}
