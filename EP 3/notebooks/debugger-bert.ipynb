{
 "cells": [
  {
   "cell_type": "markdown",
   "metadata": {},
   "source": [
    "# Notebook de Debugger do BERT\n",
    "\n",
    "Este notebook serve como debugger da arquitetura da rede uma vez que a rede utilizada éa **mesma** que a apresentada [neste notebook](estudo-bert.ipynb). A única diferença é em relação aos dados utilizados, que são totalmente dummies"
   ]
  },
  {
   "cell_type": "code",
   "execution_count": 1,
   "metadata": {},
   "outputs": [
    {
     "name": "stdout",
     "output_type": "stream",
     "text": [
      "Mon Dec 21 18:27:45 2020       \r\n",
      "+-----------------------------------------------------------------------------+\r\n",
      "| NVIDIA-SMI 440.100      Driver Version: 440.100      CUDA Version: 10.2     |\r\n",
      "|-------------------------------+----------------------+----------------------+\r\n",
      "| GPU  Name        Persistence-M| Bus-Id        Disp.A | Volatile Uncorr. ECC |\r\n",
      "| Fan  Temp  Perf  Pwr:Usage/Cap|         Memory-Usage | GPU-Util  Compute M. |\r\n",
      "|===============================+======================+======================|\r\n",
      "|   0  Tesla V100-PCIE...  Off  | 00000000:3B:00.0 Off |                    0 |\r\n",
      "| N/A   34C    P0    34W / 250W |      0MiB / 16160MiB |      0%      Default |\r\n",
      "+-------------------------------+----------------------+----------------------+\r\n",
      "                                                                               \r\n",
      "+-----------------------------------------------------------------------------+\r\n",
      "| Processes:                                                       GPU Memory |\r\n",
      "|  GPU       PID   Type   Process name                             Usage      |\r\n",
      "|=============================================================================|\r\n",
      "|  No running processes found                                                 |\r\n",
      "+-----------------------------------------------------------------------------+\r\n"
     ]
    }
   ],
   "source": [
    "!nvidia-smi"
   ]
  },
  {
   "cell_type": "code",
   "execution_count": 2,
   "metadata": {},
   "outputs": [],
   "source": [
    "import sys\n",
    "sys.path.append('..')"
   ]
  },
  {
   "cell_type": "code",
   "execution_count": 3,
   "metadata": {},
   "outputs": [
    {
     "name": "stderr",
     "output_type": "stream",
     "text": [
      "[nltk_data] Downloading package wordnet to\n",
      "[nltk_data]     /var/fasttmp/abarbosa/nltk_data...\n",
      "[nltk_data]   Package wordnet is already up-to-date!\n"
     ]
    }
   ],
   "source": [
    "from code_utils.metrics import decode_text, generate_sequences, report_linguistic_metrics\n",
    "from code_utils.models.bert.training import define_decoder_tokenization_layers, define_full_model, tokenize_encoder\n",
    "from code_utils.models.bert.inference import encoder_inference_model, decoder_inference_model\n",
    "from code_utils.preprocessing.data_preprocessing import process_data"
   ]
  },
  {
   "cell_type": "code",
   "execution_count": 4,
   "metadata": {},
   "outputs": [],
   "source": [
    "import random\n",
    "from random import randint\n",
    "import matplotlib.pyplot as plt\n",
    "import numpy as np\n",
    "import tensorflow as tf\n",
    "from tensorflow.keras.layers import Attention, Bidirectional, Dense, Embedding, Input, GRU\n",
    "from tensorflow.keras.utils import plot_model\n",
    "from transformers import TFBertModel\n",
    "import pandas as pd"
   ]
  },
  {
   "cell_type": "code",
   "execution_count": 5,
   "metadata": {},
   "outputs": [],
   "source": [
    "SEED = 42\n",
    "random.seed(SEED)\n",
    "tf.random.set_seed(SEED)\n",
    "np.random.seed(SEED)\n",
    "START_TOKEN='xxstart'\n",
    "END_TOKEN='xxend'"
   ]
  },
  {
   "cell_type": "code",
   "execution_count": 6,
   "metadata": {},
   "outputs": [],
   "source": [
    "# generate a sequence of random integers\n",
    "def generate_sequence(length, n_unique):\n",
    "\treturn [randint(1, n_unique-1) for _ in range(length)]\n",
    "# prepare data for the LSTM\n",
    "def get_dataset(n_in, n_out, cardinality, n_samples):\n",
    "    X1, X2, y = list(), list(), list()\n",
    "    for _ in range(n_samples):\n",
    "        # generate source sequence\n",
    "        source = generate_sequence(n_in, cardinality)\n",
    "        # define padded target sequence\n",
    "        target = source[:n_out]\n",
    "        target.reverse()\n",
    "        # create padded input target sequence\n",
    "        target_in = [START_TOKEN] + target+[END_TOKEN]\n",
    "        target = target+[END_TOKEN]\n",
    "        # store\n",
    "        X1.append(' '.join(np.array(source).astype('str')))\n",
    "        X2.append(' '.join(np.array(target_in).astype('str')))\n",
    "        y.append(' '.join(np.array(target).astype('str')))\n",
    "    return np.reshape(np.array(X1), (-1,1)),np.reshape(np.array(X2), (-1,1)),np.reshape(np.array(y), (-1,1))\n",
    "# configure problem\n",
    "n_features = 50 + 1\n",
    "n_steps_in = 20\n",
    "n_steps_out = 5"
   ]
  },
  {
   "cell_type": "code",
   "execution_count": 7,
   "metadata": {},
   "outputs": [],
   "source": [
    "encoder_train, decoder_train, decoder_label_train = get_dataset(n_steps_in, n_steps_out, n_features, 100000)\n",
    "encoder_test, decoder_test, decoder_label_test = get_dataset(n_steps_in, n_steps_out, n_features, 10000)"
   ]
  },
  {
   "cell_type": "code",
   "execution_count": 8,
   "metadata": {},
   "outputs": [],
   "source": [
    "ENCODER_SEQ_LENGTH = 20\n",
    "DECODER_SEQ_LENGTH = 5"
   ]
  },
  {
   "cell_type": "code",
   "execution_count": 9,
   "metadata": {},
   "outputs": [],
   "source": [
    "(\n",
    "    tokenizer_layer_decoder,\n",
    "    tokenizer_layer_decoder_inference\n",
    ") = define_decoder_tokenization_layers(decoder_train, DECODER_SEQ_LENGTH)"
   ]
  },
  {
   "cell_type": "code",
   "execution_count": 10,
   "metadata": {},
   "outputs": [],
   "source": [
    "VOCAB_SIZE_decoder = len(tokenizer_layer_decoder.get_vocabulary()) + 2\n",
    "BATCH_SIZE = 128\n",
    "EPOCHS=50\n",
    "EMBED_DIM = 64  # tamanho do Embedding de cada token\n",
    "BERT_DIM = 768\n",
    "BERT_MODEL_NAME = \"neuralmind/bert-base-portuguese-cased\"\n",
    "LEARNING_RATE=1e-5"
   ]
  },
  {
   "cell_type": "code",
   "execution_count": 11,
   "metadata": {},
   "outputs": [],
   "source": [
    "encoder_train = tokenize_encoder(\n",
    "    encoder_train, BERT_MODEL_NAME, ENCODER_SEQ_LENGTH\n",
    ")\n",
    "encoder_test =tokenize_encoder(\n",
    "    encoder_test, BERT_MODEL_NAME, ENCODER_SEQ_LENGTH\n",
    ")"
   ]
  },
  {
   "cell_type": "code",
   "execution_count": 12,
   "metadata": {},
   "outputs": [
    {
     "name": "stderr",
     "output_type": "stream",
     "text": [
      "Some weights of the PyTorch model were not used when initializing the TF 2.0 model TFBertModel: ['cls.predictions.transform.dense.weight', 'cls.predictions.transform.LayerNorm.bias', 'cls.predictions.decoder.weight', 'cls.predictions.transform.dense.bias', 'cls.seq_relationship.bias', 'cls.predictions.bias', 'cls.seq_relationship.weight', 'cls.predictions.transform.LayerNorm.weight']\n",
      "- This IS expected if you are initializing TFBertModel from a PyTorch model trained on another task or with another architecture (e.g. initializing a TFBertForSequenceClassification model from a BertForPreTraining model).\n",
      "- This IS NOT expected if you are initializing TFBertModel from a PyTorch model that you expect to be exactly identical (e.g. initializing a TFBertForSequenceClassification model from a BertForSequenceClassification model).\n",
      "All the weights of TFBertModel were initialized from the PyTorch model.\n",
      "If your task is similar to the task the model of the checkpoint was trained on, you can already use TFBertModel for predictions without further training.\n"
     ]
    }
   ],
   "source": [
    "# Encoder definition\n",
    "input_text_encoder = Input(\n",
    "    shape=(ENCODER_SEQ_LENGTH,), dtype=tf.int32, name=\"input_text\"\n",
    ")\n",
    "encoder_model = TFBertModel.from_pretrained(\n",
    "    BERT_MODEL_NAME,\n",
    "    output_hidden_states=False,\n",
    "    output_attentions=False,\n",
    "    from_pt=True,\n",
    ")"
   ]
  },
  {
   "cell_type": "code",
   "execution_count": 13,
   "metadata": {},
   "outputs": [],
   "source": [
    "# Decoder definition\n",
    "input_text_decoder = Input(shape=(None,), dtype=tf.string, name=\"decoder_input\")\n",
    "emb_dec_layer = Embedding(VOCAB_SIZE_decoder, EMBED_DIM, name=\"decoder_embedding\")\n",
    "decoder_model = GRU(\n",
    "    BERT_DIM, return_sequences=True, return_state=True, name=\"decoder_rnn\"\n",
    ")\n",
    "attention_layer = Attention(name=\"attention\", causal=True)\n",
    "decoder_dense = Dense(VOCAB_SIZE_decoder, activation=\"softmax\", name=\"dense_layer\")"
   ]
  },
  {
   "cell_type": "code",
   "execution_count": 14,
   "metadata": {},
   "outputs": [],
   "source": [
    "## Preprocessing step\n",
    "tokenized_decoder = tokenizer_layer_decoder(input_text_decoder)\n",
    "# embedding layer\n",
    "dec_emb = emb_dec_layer(tokenized_decoder)"
   ]
  },
  {
   "cell_type": "code",
   "execution_count": 15,
   "metadata": {},
   "outputs": [],
   "source": [
    "model =  define_full_model(input_text_encoder,encoder_model,\n",
    "                           input_text_decoder,\n",
    "                           dec_emb, decoder_model,\n",
    "                           attention_layer, decoder_dense\n",
    "                      )"
   ]
  },
  {
   "cell_type": "code",
   "execution_count": 16,
   "metadata": {},
   "outputs": [
    {
     "name": "stdout",
     "output_type": "stream",
     "text": [
      "Model: \"model\"\n",
      "__________________________________________________________________________________________________\n",
      "Layer (type)                    Output Shape         Param #     Connected to                     \n",
      "==================================================================================================\n",
      "decoder_input (InputLayer)      [(None, None)]       0                                            \n",
      "__________________________________________________________________________________________________\n",
      "decoder_vectorizer (TextVectori (None, 5)            0           decoder_input[0][0]              \n",
      "__________________________________________________________________________________________________\n",
      "input_text (InputLayer)         [(None, 20)]         0                                            \n",
      "__________________________________________________________________________________________________\n",
      "decoder_embedding (Embedding)   (None, 5, 64)        3456        decoder_vectorizer[0][0]         \n",
      "__________________________________________________________________________________________________\n",
      "tf_bert_model (TFBertModel)     TFBaseModelOutputWit 108923136   input_text[0][0]                 \n",
      "__________________________________________________________________________________________________\n",
      "decoder_rnn (GRU)               [(None, 5, 768), (No 1921536     decoder_embedding[0][0]          \n",
      "                                                                 tf_bert_model[0][1]              \n",
      "__________________________________________________________________________________________________\n",
      "dense_layer (Dense)             (None, 5, 54)        41526       decoder_rnn[0][0]                \n",
      "==================================================================================================\n",
      "Total params: 110,889,654\n",
      "Trainable params: 110,889,654\n",
      "Non-trainable params: 0\n",
      "__________________________________________________________________________________________________\n"
     ]
    }
   ],
   "source": [
    "model.summary()"
   ]
  },
  {
   "cell_type": "code",
   "execution_count": 17,
   "metadata": {},
   "outputs": [
    {
     "data": {
      "image/png": "[encoded data removed]",
      "text/plain": [
       "<IPython.core.display.Image object>"
      ]
     },
     "execution_count": 17,
     "metadata": {},
     "output_type": "execute_result"
    }
   ],
   "source": [
    "plot_model(model, show_shapes=True, show_layer_names=True)"
   ]
  },
  {
   "cell_type": "code",
   "execution_count": 18,
   "metadata": {},
   "outputs": [],
   "source": [
    "opt = tf.keras.optimizers.Adam(LEARNING_RATE)\n",
    "model.compile(\n",
    "    optimizer=opt,\n",
    "    loss={\"dense_layer\": \"sparse_categorical_crossentropy\"},\n",
    "    metrics={\"dense_layer\": \"accuracy\"},\n",
    ")"
   ]
  },
  {
   "cell_type": "code",
   "execution_count": 19,
   "metadata": {},
   "outputs": [
    {
     "name": "stdout",
     "output_type": "stream",
     "text": [
      "Forma do Dataset de Treinamento: (100000, 20)\n"
     ]
    }
   ],
   "source": [
    "print(f\"Forma do Dataset de Treinamento: {encoder_train.shape}\")"
   ]
  },
  {
   "cell_type": "code",
   "execution_count": null,
   "metadata": {},
   "outputs": [
    {
     "name": "stdout",
     "output_type": "stream",
     "text": [
      "Epoch 1/50\n",
      "704/704 [==============================] - 143s 204ms/step - loss: 2.9702 - accuracy: 0.1985 - val_loss: 1.9151 - val_accuracy: 0.2419\n",
      "Epoch 2/50\n",
      "704/704 [==============================] - 141s 200ms/step - loss: 1.8350 - accuracy: 0.2397 - val_loss: 1.6236 - val_accuracy: 0.2663\n",
      "Epoch 3/50\n",
      "704/704 [==============================] - 141s 200ms/step - loss: 1.6637 - accuracy: 0.2791 - val_loss: 1.4924 - val_accuracy: 0.3560\n",
      "Epoch 4/50\n",
      "704/704 [==============================] - 141s 200ms/step - loss: 1.5035 - accuracy: 0.3648 - val_loss: 1.3103 - val_accuracy: 0.4507\n",
      "Epoch 5/50\n",
      "704/704 [==============================] - 141s 200ms/step - loss: 1.3284 - accuracy: 0.4441 - val_loss: 1.1420 - val_accuracy: 0.5301\n",
      "Epoch 6/50\n",
      "704/704 [==============================] - 141s 200ms/step - loss: 1.1748 - accuracy: 0.5113 - val_loss: 0.9963 - val_accuracy: 0.6115\n",
      "Epoch 7/50\n",
      "704/704 [==============================] - 141s 200ms/step - loss: 1.0374 - accuracy: 0.5759 - val_loss: 0.8640 - val_accuracy: 0.6921\n",
      "Epoch 8/50\n",
      "704/704 [==============================] - 140s 199ms/step - loss: 0.9124 - accuracy: 0.6404 - val_loss: 0.7443 - val_accuracy: 0.7631\n",
      "Epoch 9/50\n",
      "704/704 [==============================] - 141s 200ms/step - loss: 0.7931 - accuracy: 0.7042 - val_loss: 0.6254 - val_accuracy: 0.8336\n",
      "Epoch 10/50\n",
      "704/704 [==============================] - 140s 200ms/step - loss: 0.6725 - accuracy: 0.7700 - val_loss: 0.5053 - val_accuracy: 0.8861\n",
      "Epoch 11/50\n",
      "704/704 [==============================] - 141s 200ms/step - loss: 0.5473 - accuracy: 0.8346 - val_loss: 0.3864 - val_accuracy: 0.9335\n",
      "Epoch 12/50\n",
      "704/704 [==============================] - 141s 200ms/step - loss: 0.4297 - accuracy: 0.8894 - val_loss: 0.2921 - val_accuracy: 0.9576\n",
      "Epoch 13/50\n",
      "704/704 [==============================] - 140s 200ms/step - loss: 0.3352 - accuracy: 0.9263 - val_loss: 0.2198 - val_accuracy: 0.9760\n",
      "Epoch 14/50\n",
      "704/704 [==============================] - 141s 200ms/step - loss: 0.2625 - accuracy: 0.9503 - val_loss: 0.1665 - val_accuracy: 0.9853\n",
      "Epoch 15/50\n",
      "704/704 [==============================] - 141s 200ms/step - loss: 0.2062 - accuracy: 0.9661 - val_loss: 0.1265 - val_accuracy: 0.9910\n",
      "Epoch 16/50\n",
      "704/704 [==============================] - 140s 200ms/step - loss: 0.1632 - accuracy: 0.9769 - val_loss: 0.0973 - val_accuracy: 0.9949\n",
      "Epoch 17/50\n",
      "704/704 [==============================] - 141s 200ms/step - loss: 0.1291 - accuracy: 0.9844 - val_loss: 0.0751 - val_accuracy: 0.9966\n",
      "Epoch 18/50\n",
      "704/704 [==============================] - 140s 199ms/step - loss: 0.1033 - accuracy: 0.9891 - val_loss: 0.0580 - val_accuracy: 0.9981\n",
      "Epoch 19/50\n",
      "704/704 [==============================] - 140s 200ms/step - loss: 0.0829 - accuracy: 0.9924 - val_loss: 0.0455 - val_accuracy: 0.9987\n",
      "Epoch 20/50\n",
      "704/704 [==============================] - 140s 199ms/step - loss: 0.0667 - accuracy: 0.9948 - val_loss: 0.0367 - val_accuracy: 0.9992\n",
      "Epoch 21/50\n",
      "704/704 [==============================] - 141s 200ms/step - loss: 0.0538 - accuracy: 0.9963 - val_loss: 0.0289 - val_accuracy: 0.9995\n",
      "Epoch 22/50\n",
      "704/704 [==============================] - 140s 199ms/step - loss: 0.0438 - accuracy: 0.9975 - val_loss: 0.0229 - val_accuracy: 0.9996\n",
      "Epoch 23/50\n",
      "704/704 [==============================] - 140s 200ms/step - loss: 0.0361 - accuracy: 0.9980 - val_loss: 0.0191 - val_accuracy: 0.9997\n",
      "Epoch 24/50\n",
      "704/704 [==============================] - 141s 200ms/step - loss: 0.0296 - accuracy: 0.9986 - val_loss: 0.0151 - val_accuracy: 0.9998\n",
      "Epoch 25/50\n",
      "704/704 [==============================] - 141s 200ms/step - loss: 0.0244 - accuracy: 0.9990 - val_loss: 0.0124 - val_accuracy: 0.9999\n",
      "Epoch 26/50\n",
      "704/704 [==============================] - 141s 200ms/step - loss: 0.0204 - accuracy: 0.9993 - val_loss: 0.0103 - val_accuracy: 0.9999\n",
      "Epoch 27/50\n",
      "704/704 [==============================] - 141s 200ms/step - loss: 0.0170 - accuracy: 0.9994 - val_loss: 0.0083 - val_accuracy: 1.0000\n",
      "Epoch 28/50\n",
      "704/704 [==============================] - 141s 200ms/step - loss: 0.0142 - accuracy: 0.9997 - val_loss: 0.0071 - val_accuracy: 1.0000\n",
      "Epoch 29/50\n",
      "704/704 [==============================] - 140s 199ms/step - loss: 0.0118 - accuracy: 0.9997 - val_loss: 0.0058 - val_accuracy: 1.0000\n",
      "Epoch 30/50\n",
      "704/704 [==============================] - 140s 200ms/step - loss: 0.0101 - accuracy: 0.9998 - val_loss: 0.0049 - val_accuracy: 1.0000\n",
      "Epoch 31/50\n",
      "704/704 [==============================] - 140s 200ms/step - loss: 0.0086 - accuracy: 0.9998 - val_loss: 0.0042 - val_accuracy: 1.0000\n",
      "Epoch 32/50\n",
      "704/704 [==============================] - 140s 199ms/step - loss: 0.0073 - accuracy: 0.9999 - val_loss: 0.0035 - val_accuracy: 1.0000\n",
      "Epoch 33/50\n",
      "704/704 [==============================] - 140s 199ms/step - loss: 0.0062 - accuracy: 0.9999 - val_loss: 0.0029 - val_accuracy: 1.0000\n",
      "Epoch 34/50\n",
      "704/704 [==============================] - 140s 199ms/step - loss: 0.0054 - accuracy: 0.9999 - val_loss: 0.0025 - val_accuracy: 1.0000\n",
      "Epoch 35/50\n",
      "704/704 [==============================] - 140s 200ms/step - loss: 0.0047 - accuracy: 0.9999 - val_loss: 0.0021 - val_accuracy: 1.0000\n",
      "Epoch 36/50\n",
      "704/704 [==============================] - 140s 200ms/step - loss: 0.0039 - accuracy: 1.0000 - val_loss: 0.0018 - val_accuracy: 1.0000\n",
      "Epoch 37/50\n",
      "704/704 [==============================] - 140s 199ms/step - loss: 0.0036 - accuracy: 0.9999 - val_loss: 0.0016 - val_accuracy: 1.0000\n",
      "Epoch 38/50\n",
      "704/704 [==============================] - 140s 200ms/step - loss: 0.0031 - accuracy: 1.0000 - val_loss: 0.0014 - val_accuracy: 1.0000\n",
      "Epoch 39/50\n",
      "562/704 [======================>.......] - ETA: 27s - loss: 0.0027 - accuracy: 1.0000"
     ]
    }
   ],
   "source": [
    "my_callbacks = [tf.keras.callbacks.EarlyStopping(patience=2)]\n",
    "\n",
    "history = model.fit(\n",
    "    [encoder_train, decoder_train],\n",
    "    tokenizer_layer_decoder(decoder_label_train),\n",
    "    batch_size=BATCH_SIZE,\n",
    "    epochs=EPOCHS,\n",
    "    callbacks=my_callbacks,\n",
    "    validation_split=0.1\n",
    ")"
   ]
  },
  {
   "cell_type": "code",
   "execution_count": 26,
   "metadata": {},
   "outputs": [
    {
     "data": {
      "image/png": "[encoded data removed]",
      "text/plain": [
       "<Figure size 720x504 with 1 Axes>"
      ]
     },
     "metadata": {
      "needs_background": "light"
     },
     "output_type": "display_data"
    }
   ],
   "source": [
    "plt.figure(figsize=(10,7))\n",
    "a, = plt.plot(history.history['loss'],label='Training Loss')\n",
    "b, = plt.plot(history.history['val_loss'],label='Validation Loss')\n",
    "plt.legend(handles=[a,b])\n",
    "plt.show()"
   ]
  },
  {
   "cell_type": "code",
   "execution_count": 28,
   "metadata": {},
   "outputs": [
    {
     "data": {
      "image/png": "[encoded data removed]",
      "text/plain": [
       "<Figure size 720x504 with 1 Axes>"
      ]
     },
     "metadata": {
      "needs_background": "light"
     },
     "output_type": "display_data"
    }
   ],
   "source": [
    "plt.figure(figsize=(10,7))\n",
    "a, = plt.plot(history.history['accuracy'],label='Training Accuracy')\n",
    "b, = plt.plot(history.history['val_accuracy'],label='Validation Accuracy')\n",
    "plt.legend(handles=[a,b])\n",
    "plt.show()"
   ]
  },
  {
   "cell_type": "code",
   "execution_count": 30,
   "metadata": {},
   "outputs": [
    {
     "name": "stdout",
     "output_type": "stream",
     "text": [
      "79/79 [==============================] - 6s 75ms/step - loss: 4.0673e-04 - accuracy: 1.0000\n"
     ]
    }
   ],
   "source": [
    "test_loss, test_acc = model.evaluate([encoder_test, decoder_test],\n",
    "                                      tokenizer_layer_decoder(decoder_label_test),\n",
    "                                      batch_size=128)"
   ]
  },
  {
   "cell_type": "code",
   "execution_count": 32,
   "metadata": {},
   "outputs": [],
   "source": [
    "tokenized_decoder_inference = tokenizer_layer_decoder_inference(input_text_decoder)\n",
    "dec_emb_embedding_inference = emb_dec_layer(tokenized_decoder_inference)"
   ]
  },
  {
   "cell_type": "code",
   "execution_count": 34,
   "metadata": {},
   "outputs": [],
   "source": [
    "encoder_inference = encoder_inference_model(input_text_encoder, encoder_model)"
   ]
  },
  {
   "cell_type": "code",
   "execution_count": 36,
   "metadata": {},
   "outputs": [],
   "source": [
    "decoder_inference = decoder_inference_model(\n",
    "    decoder_embedding=dec_emb_embedding_inference,\n",
    "    target_text=input_text_decoder,\n",
    "    latent_dim=BERT_DIM,\n",
    "    encoder_sequence_length=ENCODER_SEQ_LENGTH,\n",
    "    decoder_model=decoder_model,\n",
    "    attention_layer=attention_layer,\n",
    "    decoder_dense=decoder_dense,\n",
    ")"
   ]
  },
  {
   "cell_type": "code",
   "execution_count": 37,
   "metadata": {},
   "outputs": [
    {
     "name": "stderr",
     "output_type": "stream",
     "text": [
      "Gerando Predições: 100%|██████████| 100/100 [00:17<00:00,  5.84it/s]\n"
     ]
    }
   ],
   "source": [
    "sentences = generate_sequences(\n",
    "    encoder_test,\n",
    "    decoder_label_test,\n",
    "    100,\n",
    "    encoder_inference,\n",
    "    decoder_inference,\n",
    "    DECODER_SEQ_LENGTH,\n",
    "    tokenizer_layer_decoder_inference,\n",
    ")"
   ]
  },
  {
   "cell_type": "code",
   "execution_count": 38,
   "metadata": {},
   "outputs": [
    {
     "data": {
      "text/html": [
       "<div>\n",
       "<style scoped>\n",
       "    .dataframe tbody tr th:only-of-type {\n",
       "        vertical-align: middle;\n",
       "    }\n",
       "\n",
       "    .dataframe tbody tr th {\n",
       "        vertical-align: top;\n",
       "    }\n",
       "\n",
       "    .dataframe thead th {\n",
       "        text-align: right;\n",
       "    }\n",
       "</style>\n",
       "<table border=\"1\" class=\"dataframe\">\n",
       "  <thead>\n",
       "    <tr style=\"text-align: right;\">\n",
       "      <th></th>\n",
       "      <th>target_processed</th>\n",
       "      <th>predicted</th>\n",
       "    </tr>\n",
       "  </thead>\n",
       "  <tbody>\n",
       "    <tr>\n",
       "      <th>3099</th>\n",
       "      <td>[25 19 42 19 43 xxend]</td>\n",
       "      <td>25 19 42 19 43</td>\n",
       "    </tr>\n",
       "    <tr>\n",
       "      <th>6278</th>\n",
       "      <td>[15 48 45 1 32 xxend]</td>\n",
       "      <td>15 48 45 1 32</td>\n",
       "    </tr>\n",
       "    <tr>\n",
       "      <th>8392</th>\n",
       "      <td>[16 18 2 11 17 xxend]</td>\n",
       "      <td>16 18 2 11 17</td>\n",
       "    </tr>\n",
       "    <tr>\n",
       "      <th>3104</th>\n",
       "      <td>[44 41 41 37 19 xxend]</td>\n",
       "      <td>44 41 41 37 19</td>\n",
       "    </tr>\n",
       "    <tr>\n",
       "      <th>7215</th>\n",
       "      <td>[30 8 37 32 39 xxend]</td>\n",
       "      <td>30 8 37 32 39</td>\n",
       "    </tr>\n",
       "  </tbody>\n",
       "</table>\n",
       "</div>"
      ],
      "text/plain": [
       "            target_processed       predicted\n",
       "3099  [25 19 42 19 43 xxend]  25 19 42 19 43\n",
       "6278   [15 48 45 1 32 xxend]   15 48 45 1 32\n",
       "8392   [16 18 2 11 17 xxend]   16 18 2 11 17\n",
       "3104  [44 41 41 37 19 xxend]  44 41 41 37 19\n",
       "7215   [30 8 37 32 39 xxend]   30 8 37 32 39"
      ]
     },
     "execution_count": 38,
     "metadata": {},
     "output_type": "execute_result"
    }
   ],
   "source": [
    "sentences.head()"
   ]
  },
  {
   "cell_type": "code",
   "execution_count": 39,
   "metadata": {},
   "outputs": [],
   "source": [
    "bleu_metric, nist_metric, meteor_metric = report_linguistic_metrics(sentences)"
   ]
  },
  {
   "cell_type": "code",
   "execution_count": 40,
   "metadata": {},
   "outputs": [
    {
     "data": {
      "text/html": [
       "<div>\n",
       "<style scoped>\n",
       "    .dataframe tbody tr th:only-of-type {\n",
       "        vertical-align: middle;\n",
       "    }\n",
       "\n",
       "    .dataframe tbody tr th {\n",
       "        vertical-align: top;\n",
       "    }\n",
       "\n",
       "    .dataframe thead th {\n",
       "        text-align: right;\n",
       "    }\n",
       "</style>\n",
       "<table border=\"1\" class=\"dataframe\">\n",
       "  <thead>\n",
       "    <tr style=\"text-align: right;\">\n",
       "      <th></th>\n",
       "      <th>accuracy</th>\n",
       "      <th>bleu score</th>\n",
       "      <th>nist score</th>\n",
       "      <th>meteor score</th>\n",
       "    </tr>\n",
       "  </thead>\n",
       "  <tbody>\n",
       "    <tr>\n",
       "      <th>0</th>\n",
       "      <td>1.0</td>\n",
       "      <td>0.631651</td>\n",
       "      <td>5.859829</td>\n",
       "      <td>0.844068</td>\n",
       "    </tr>\n",
       "  </tbody>\n",
       "</table>\n",
       "</div>"
      ],
      "text/plain": [
       "   accuracy  bleu score  nist score  meteor score\n",
       "0       1.0    0.631651    5.859829      0.844068"
      ]
     },
     "execution_count": 40,
     "metadata": {},
     "output_type": "execute_result"
    }
   ],
   "source": [
    "pd.DataFrame([test_acc, bleu_metric, nist_metric, meteor_metric]).T.rename(columns={0:'accuracy',\n",
    "                                                                                    1:'bleu score',\n",
    "                                                                                    2:'nist score',\n",
    "                                                                                    3:'meteor score'})"
   ]
  }
 ],
 "metadata": {
  "kernelspec": {
   "display_name": "ep3",
   "language": "python",
   "name": "ep3"
  },
  "language_info": {
   "codemirror_mode": {
    "name": "ipython",
    "version": 3
   },
   "file_extension": ".py",
   "mimetype": "text/x-python",
   "name": "python",
   "nbconvert_exporter": "python",
   "pygments_lexer": "ipython3",
   "version": "3.7.3"
  }
 },
 "nbformat": 4,
 "nbformat_minor": 4
}
