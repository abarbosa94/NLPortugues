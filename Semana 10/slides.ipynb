{
 "cells": [
  {
   "cell_type": "markdown",
   "metadata": {
    "slideshow": {
     "slide_type": "slide"
    }
   },
   "source": [
    "\n",
    "<p style=\"text-align:center;font-size:50px\"><b>Bertologia</b></p>\n",
    "\n",
    "\n",
    "<img src=\"https://github.com/alan-barzilay/NLPortugues/blob/master/imagens/logo_nlportugues.png?raw=true\"  style=\"height:45%\" align=\"left\">\n",
    "\n",
    "<img src=\"http://ccsl.ime.usp.br/files/unmanaged/logos/logoIME+Texto.png\"  style=\"height:45%;width:10%\" align=\"right\">"
   ]
  },
  {
   "cell_type": "markdown",
   "metadata": {
    "slideshow": {
     "slide_type": "subslide"
    }
   },
   "source": [
    "## Agenda\n",
    "\n",
    "   - Momento Computer Vision em NLP: ULMFit\n",
    "   - Open AI Transformer\n",
    "   - GPT-1 vs GPT-2 vs GPT-3\n",
    "   - BERT \n",
    "   - Bertologia\n",
    "   - Miscelania (só se der tempo se não fica pra próxima aula)"
   ]
  },
  {
   "cell_type": "markdown",
   "metadata": {
    "id": "xRrZCqoP80uP",
    "slideshow": {
     "slide_type": "slide"
    }
   },
   "source": [
    "# Momento Computer Vision em NLP"
   ]
  },
  {
   "cell_type": "markdown",
   "metadata": {
    "slideshow": {
     "slide_type": "subslide"
    }
   },
   "source": [
    "## Transfer Learning\n",
    "\n",
    "Um dos grandes motivos responsáveis para o _boom_ de Deep Learning em meados de 2014 foi uma técnica conhecida como **Transfer Learning**. Ela pode ser definida como a seguinte:\n",
    "\n",
    "> Transfer learning and domain adaptation refer to the situation where what has been learned in one setting … is exploited to improve generalization in another setting\n",
    "\n",
    "[Deep Learning Book](https://www.deeplearningbook.org/contents/representation.html)\n"
   ]
  },
  {
   "cell_type": "markdown",
   "metadata": {
    "slideshow": {
     "slide_type": "subslide"
    }
   },
   "source": [
    "<center><img src='images/transfer_learning.jpeg'></center>\n",
    "\n",
    "Então, basicamente, a gente treina uma rede neural pesada para uma task grande, como o ImageNet, **pegamos os pesos da rede treinada** e treinamos uma nova rede para uma task menor, inicializando ela com esses pesos aprendidos na tarefa anterior"
   ]
  },
  {
   "cell_type": "markdown",
   "metadata": {
    "slideshow": {
     "slide_type": "slide"
    }
   },
   "source": [
    "## Mas como isso é possível em NLP?\n",
    "\n",
    "A ideia de combinar a ideia de combinar transfer learning com o que ficou conhecido como aprendizado auto-surpervisionado.\n",
    "\n",
    "> Self-supervised learning: Training a model using labels that are embedded in the independent variable, rather than requiring external labels. For instance, training a model to predict the next word in a text.\n",
    "\n",
    "[Fast.ai book- Chapter 10](https://github.com/fastai/fastbook/blob/master/10_nlp.ipynb)\n",
    "\n",
    "A tarefa, no caso de NLP, um tipo de modelo que entra nessa categoria de aprendizado auto surpervisionado é conhecida como **modelo de linguagem**"
   ]
  },
  {
   "cell_type": "markdown",
   "metadata": {
    "slideshow": {
     "slide_type": "subslide"
    }
   },
   "source": [
    "### Modelo de Linguagem\n",
    "\n",
    "Um modelo de linguagem é capaz de determinar a _fluência_ de um texto. Na prática, o desafio é, **com base nas palavras que eu vi até agora, qual deve ser a próxima palavra?**"
   ]
  },
  {
   "cell_type": "markdown",
   "metadata": {
    "slideshow": {
     "slide_type": "fragment"
    }
   },
   "source": [
    "$$\n",
    "\\begin{array}{c}\n",
    "P(w_n|w_0, w_1, w_2, \\dots, w_{n-1})\n",
    "\\end{array}\n",
    "$$\n",
    "\n",
    "Qual a intuição para isso funcionar?"
   ]
  },
  {
   "cell_type": "markdown",
   "metadata": {
    "slideshow": {
     "slide_type": "subslide"
    }
   },
   "source": [
    "#### Regra de Probabilidade Condicional"
   ]
  },
  {
   "cell_type": "markdown",
   "metadata": {
    "slideshow": {
     "slide_type": "fragment"
    }
   },
   "source": [
    "$$\n",
    "\\begin{array}{ll}\n",
    "P(w_0, w_1, w_2, \\dots, w_n) & = P(w_0) \\times P(w_1|w_0) \\dots \\times P(w_n|w_0, w_1, w_2, \\dots, w_{n-1}) \\\\\n",
    "& = \\displaystyle \\prod_{i} P(w_n|w_0, w_1, w_2, \\dots, w_{n-1})\n",
    "\\end{array}\n",
    "$$"
   ]
  },
  {
   "cell_type": "markdown",
   "metadata": {
    "slideshow": {
     "slide_type": "fragment"
    }
   },
   "source": [
    "P(Eu gosto de abacate) = P(Eu) $\\times$ P(gosto|Eu) $\\times$ P(de|Eu, gosto) $\\times$ P(abacate|Eu, gosto, de)"
   ]
  },
  {
   "cell_type": "markdown",
   "metadata": {
    "slideshow": {
     "slide_type": "subslide"
    }
   },
   "source": [
    "Percebam que tendo um modelo assim, a gente **não precisa de labels** e, logo, o próprio dado de treinamento pode ser usado para gerar as labels e, assim, treinar algo! Daí a ideia de **auto surpervisionado**"
   ]
  },
  {
   "cell_type": "markdown",
   "metadata": {
    "slideshow": {
     "slide_type": "fragment"
    }
   },
   "source": [
    "<img src='images/yann_lecunn_quote.jpg'  style=\"height:70%;width:40%\" align=\"left\">\n",
    "\n",
    "<img src='images/yann_lecunn_slides.jpg' align=\"right\">"
   ]
  },
  {
   "cell_type": "markdown",
   "metadata": {
    "slideshow": {
     "slide_type": "subslide"
    }
   },
   "source": [
    "## ULMFit\n",
    "\n",
    "Em Janeiro de 2018, Sebastian Ruder e Jeremy Howard tiveram a ideia de combinar essas duas técnicas, modelo que eles nomearam de [**ULMFit**](https://arxiv.org/abs/1801.06146) ou _Universal Language Model Fine-tuning_"
   ]
  },
  {
   "cell_type": "markdown",
   "metadata": {
    "slideshow": {
     "slide_type": "fragment"
    }
   },
   "source": [
    "![](images/ulmfit.png)\n",
    "[fastai book](https://github.com/fastai/fastbook/blob/master/10_nlp.ipynb)"
   ]
  },
  {
   "cell_type": "markdown",
   "metadata": {
    "slideshow": {
     "slide_type": "subslide"
    }
   },
   "source": [
    "A ideia é criar um modelo de Linguagem \"genérico\", treinado com base no Wikipedia. Disso, fazemos uma etapa de fine-tuning no nosso dataset objetivo, **com a ideia de que o modelo aprenda o linguajar específico desse domínio** e, então, fazemos uma etapa final de treinamento _focando na nossa tarefa final_, como um classificador de sentimentos de filmes por exemplo."
   ]
  },
  {
   "cell_type": "markdown",
   "metadata": {
    "slideshow": {
     "slide_type": "subslide"
    }
   },
   "source": [
    "## Mas e a Arquitetura?"
   ]
  },
  {
   "cell_type": "markdown",
   "metadata": {
    "slideshow": {
     "slide_type": "fragment"
    }
   },
   "source": [
    "Para treinar esses modelos, foi utilizada a seguinte arquitetura:\n",
    "\n",
    "- [AWD LSTM](https://arxiv.org/pdf/1708.02182.pdf), que pode ser entendida como uma LSTM com algumas tecnicas a mais de otimização e regularização :)"
   ]
  },
  {
   "cell_type": "markdown",
   "metadata": {
    "slideshow": {
     "slide_type": "subslide"
    }
   },
   "source": [
    "<center><img src='images/ulmfit_example.png'  style=\"height:70%;width:70%\"></center>\n",
    "\n",
    "[overview ulmfit](https://humboldt-wi.github.io/blog/research/information_systems_1819/group4_ulmfit/#overviewulmfit)"
   ]
  },
  {
   "cell_type": "markdown",
   "metadata": {
    "slideshow": {
     "slide_type": "subslide"
    }
   },
   "source": [
    "Por fim, a loss, utilizada é a boa e velha _Cross Entropy Loss_ :)"
   ]
  },
  {
   "cell_type": "code",
   "execution_count": 152,
   "metadata": {
    "slideshow": {
     "slide_type": "fragment"
    }
   },
   "outputs": [],
   "source": [
    "import numpy as np\n",
    "import tensorflow as tf\n",
    "from tensorflow import keras\n",
    "from tensorflow.keras import layers\n",
    "from tensorflow.keras.utils import plot_model\n",
    "\n",
    "# define model\n",
    "vocab_size = 1000\n",
    "embed_dim = 50  # tamanho do Embedding de cada token\n",
    "maxlen = 200  # Tamanho máximo da sentença"
   ]
  },
  {
   "cell_type": "code",
   "execution_count": 2,
   "metadata": {
    "slideshow": {
     "slide_type": "fragment"
    }
   },
   "outputs": [],
   "source": [
    "# Seu código aqui\n",
    "tokenizer_layer = tf.keras.layers.experimental.preprocessing.TextVectorization(\n",
    "    standardize='lower_and_strip_punctuation',\n",
    "    split='whitespace', ngrams=None, output_mode=\"int\",\n",
    "    output_sequence_length=maxlen, pad_to_max_tokens=False)\n",
    "tokenizer_layer.adapt(np.array([\"O rato roeu a roupa do rei de roma\"]))\n",
    "\n",
    "inputs = layers.Input(shape=(1,), dtype=tf.string, name='input_text')\n",
    "embedding_layer = layers.Embedding(input_dim=vocab_size, output_dim=embed_dim)"
   ]
  },
  {
   "cell_type": "code",
   "execution_count": 3,
   "metadata": {
    "slideshow": {
     "slide_type": "subslide"
    }
   },
   "outputs": [],
   "source": [
    "x = tokenizer_layer(inputs)    \n",
    "x = embedding_layer(x)\n",
    "x = layers.LSTM(units=1)(x)\n",
    "x = layers.Dropout(0.1)(x)\n",
    "x = layers.Dense(20, activation=\"relu\")(x)\n",
    "x = layers.Dropout(0.1)(x)\n",
    "outputs = layers.Dense(2, activation=\"softmax\")(x)\n",
    "model = keras.Model(inputs=inputs, outputs=outputs)"
   ]
  },
  {
   "cell_type": "code",
   "execution_count": 4,
   "metadata": {
    "slideshow": {
     "slide_type": "fragment"
    }
   },
   "outputs": [],
   "source": [
    "model.compile(loss=\"categorical_crossentropy\", metrics=[\"accuracy\"])"
   ]
  },
  {
   "cell_type": "markdown",
   "metadata": {
    "id": "VwEekJH_80uV",
    "slideshow": {
     "slide_type": "slide"
    }
   },
   "source": [
    "# Mas atenção não é tudo que a gente precisa?\n",
    "\n",
    "Contudo, lembrem que na útlima aula vimos um paper que saiu em no meio de 2017, o **Attention is All you need**? Nele, foi apresentado a arquitetura Transformer\n",
    "\n"
   ]
  },
  {
   "cell_type": "markdown",
   "metadata": {
    "slideshow": {
     "slide_type": "fragment"
    }
   },
   "source": [
    "<center><img src='images/transformer.png'  style=\"height:20%;width:20%\"></center>\n"
   ]
  },
  {
   "cell_type": "markdown",
   "metadata": {
    "slideshow": {
     "slide_type": "subslide"
    }
   },
   "source": [
    "Acontece que a ideia tida por [Radford et. al](https://cdn.openai.com/research-covers/language-unsupervised/language_understanding_paper.pdf) em Junho de 2018 foi a de usar a parte **decoder** da rede para o processo de aprendizado auto surpervisionado! Esse modelo ficou conhecido como **Open AI Transformer**, ou GPT-1"
   ]
  },
  {
   "cell_type": "markdown",
   "metadata": {
    "slideshow": {
     "slide_type": "fragment"
    }
   },
   "source": [
    "<center><img src='images/transformer-decoder.png'  style=\"height:20%;width:20%\"></center>\n",
    "\n",
    "[attention? attention!](https://lilianweng.github.io/lil-log/2018/06/24/attention-attention.html#decoder)\n",
    "\n",
    "* A diferença é que no caso desse modelo do Open AI $N=12$ :)"
   ]
  },
  {
   "cell_type": "code",
   "execution_count": 2,
   "metadata": {
    "scrolled": false,
    "slideshow": {
     "slide_type": "subslide"
    }
   },
   "outputs": [
    {
     "data": {
      "text/html": [
       "<video src=\"images/TransformerDecoderExample.mp4\" controls  >\n",
       "      Your browser does not support the <code>video</code> element.\n",
       "    </video>"
      ],
      "text/plain": [
       "<IPython.core.display.Video object>"
      ]
     },
     "execution_count": 2,
     "metadata": {},
     "output_type": "execute_result"
    }
   ],
   "source": [
    "from IPython.display import Video\n",
    "\n",
    "Video(\"images/TransformerDecoderExample.mp4\")"
   ]
  },
  {
   "cell_type": "markdown",
   "metadata": {
    "slideshow": {
     "slide_type": "subslide"
    }
   },
   "source": [
    "Basicamente, então, também é valido dizer que o GPT é um modelo **auto regressivo**. Ou sejam a medida que ele aprende uma palavra, **ele usa ela como informação para a próxima**"
   ]
  },
  {
   "cell_type": "markdown",
   "metadata": {
    "slideshow": {
     "slide_type": "fragment"
    }
   },
   "source": [
    "<center><img src='http://jalammar.github.io/images/xlnet/gpt-2-autoregression-2.gif'></center>\n",
    "\n",
    "[Illustrated GPT-2](http://jalammar.github.io/)\n",
    "\n",
    "As diferenças entre os GPT's são arquiteturais, como veremos daqui a pouco :)\n"
   ]
  },
  {
   "cell_type": "markdown",
   "metadata": {
    "slideshow": {
     "slide_type": "subslide"
    }
   },
   "source": [
    "## Fine Tuning\n",
    "\n",
    "Seguindo, a ideia de pós treinamento auto surpervisionado, os autores propuseram fazer fine-tunings específicos, dependendo do tipo de task utilizada. \n",
    "\n",
    "Um Token [CLS] ou [s] é **introduzido** na etapa de fine-tuning e aprendido nessa etapa"
   ]
  },
  {
   "cell_type": "markdown",
   "metadata": {
    "slideshow": {
     "slide_type": "fragment"
    }
   },
   "source": [
    "<center><img src='images/open-ai-finetuing.png' style=\"height:50%;width:50%\"></center>\n",
    "\n",
    "[open AI transformer paper](https://cdn.openai.com/research-covers/language-unsupervised/language_understanding_paper.pdf)"
   ]
  },
  {
   "cell_type": "markdown",
   "metadata": {},
   "source": [
    "A diferença aqui, é que no processo de Finetuing, dois novos Embeddings são adicionados: o de _start_ **\\<s\\>** e _extract_ **\\<e\\>**"
   ]
  },
  {
   "cell_type": "markdown",
   "metadata": {
    "slideshow": {
     "slide_type": "subslide"
    }
   },
   "source": [
    "## E aí a grande revolução em NLP começou :)\n",
    "\n",
    "<center><img src='images/open-ai-finetuning-results.png' style=\"height:50%;width:50%\"></center>\n",
    "    \n",
    "[open AI transformer paper](https://cdn.openai.com/research-covers/language-unsupervised/language_understanding_paper.pdf)"
   ]
  },
  {
   "cell_type": "markdown",
   "metadata": {
    "slideshow": {
     "slide_type": "slide"
    }
   },
   "source": [
    "# GPT2 e GPT3"
   ]
  },
  {
   "cell_type": "markdown",
   "metadata": {
    "slideshow": {
     "slide_type": "fragment"
    }
   },
   "source": [
    "Uma evolução do trabalho do Open AI Tranformer (ou GPT-1) foram justamente seus sucessores que ficaram famosos, o GPT-2 e o GPT-3"
   ]
  },
  {
   "cell_type": "markdown",
   "metadata": {
    "slideshow": {
     "slide_type": "fragment"
    }
   },
   "source": [
    "> I should also point out that what makes GPT-2 worthy of the “2” is massive scale. While BERT has a respectable 340 million parameters, GPT-2 blows it out of the water with a whopping 1.5 billion parameters. https://blog.floydhub.com/gpt2/\n",
    "\n",
    "\n",
    "Além disso, GPT-2 Introduziu a arquitetura sparse Transformer para lidar com sequências longas\n"
   ]
  },
  {
   "cell_type": "markdown",
   "metadata": {
    "slideshow": {
     "slide_type": "subslide"
    }
   },
   "source": [
    "![](images/gpt2-intro.png)"
   ]
  },
  {
   "cell_type": "markdown",
   "metadata": {
    "slideshow": {
     "slide_type": "subslide"
    }
   },
   "source": [
    "![](images/gpt-2params.png)"
   ]
  },
  {
   "cell_type": "markdown",
   "metadata": {
    "slideshow": {
     "slide_type": "subslide"
    }
   },
   "source": [
    "## GPT-3"
   ]
  },
  {
   "cell_type": "markdown",
   "metadata": {},
   "source": [
    "> We use the same model and architecture as GPT-2 including the modified initialization, pre-normalization, and reversible tokenization described therein, with the exception that we use alternating dense and locally banded sparse attention patterns in the layers of the transformer, similar to the Sparse Transformer (https://arxiv.org/pdf/2005.14165.pdf)"
   ]
  },
  {
   "cell_type": "markdown",
   "metadata": {
    "slideshow": {
     "slide_type": "subslide"
    }
   },
   "source": [
    "![](images/gpt-3intro.png)"
   ]
  },
  {
   "cell_type": "markdown",
   "metadata": {
    "slideshow": {
     "slide_type": "subslide"
    }
   },
   "source": [
    "![](images/gpt-3params.png)"
   ]
  },
  {
   "cell_type": "markdown",
   "metadata": {
    "slideshow": {
     "slide_type": "subslide"
    }
   },
   "source": [
    "![](images/gpt3-flaw.jpeg)\n",
    "\n",
    "[Doctor GPT-3: hype or reality?](https://www.nabla.com/blog/gpt-3/)"
   ]
  },
  {
   "cell_type": "markdown",
   "metadata": {
    "slideshow": {
     "slide_type": "slide"
    }
   },
   "source": [
    "# BERT"
   ]
  },
  {
   "cell_type": "markdown",
   "metadata": {},
   "source": [
    "Apesar do artigo do GPT-1 ser impressionante para a época, alguns meses depois, em Outubro do mesmo ano (o GPT foi lançado em Junho), o pessoal do Google propôs usar a parte **encoder** do transformer, junto de outras modificações leves, dando ao modelo o nome de **B**idirectional **E**ncoder **R**epresentations from **T**ransformers (BERT)"
   ]
  },
  {
   "cell_type": "markdown",
   "metadata": {
    "id": "69ozd-JZ80uW",
    "slideshow": {
     "slide_type": "subslide"
    }
   },
   "source": [
    "## Encoder Layer\n",
    "\n",
    "Relembrando o Encoder Layer dos Transformers"
   ]
  },
  {
   "cell_type": "markdown",
   "metadata": {
    "slideshow": {
     "slide_type": "fragment"
    }
   },
   "source": [
    "<center><img src='images/transformer-encoder.png'  style=\"height:30%;width:30%\"></center>\n",
    "\n",
    "[attention? attention!](https://lilianweng.github.io/lil-log/2018/06/24/attention-attention.html#encoder)\n",
    "\n",
    "* A diferença é que no caso desse modelo do BERT $N=12$ ou $N=24$ :)"
   ]
  },
  {
   "cell_type": "markdown",
   "metadata": {
    "id": "cGcHfkp380ua",
    "slideshow": {
     "slide_type": "subslide"
    }
   },
   "source": [
    "A primeira diferença é **abandonar o Mask Multi Head** e usar direto o **Multi Head Attention**, daí o nome birecional!\n"
   ]
  },
  {
   "cell_type": "markdown",
   "metadata": {
    "slideshow": {
     "slide_type": "fragment"
    }
   },
   "source": [
    "Mas se fazemos isso, não estamos **overfittando** o modelo já que vamos olhar o contexto futuro para prever a palavra atual?"
   ]
  },
  {
   "cell_type": "markdown",
   "metadata": {
    "slideshow": {
     "slide_type": "fragment"
    }
   },
   "source": [
    "Solução: usar **outro processo de treinamento**"
   ]
  },
  {
   "cell_type": "markdown",
   "metadata": {
    "slideshow": {
     "slide_type": "slide"
    }
   },
   "source": [
    "### A Loss no BERT\n",
    "\n",
    "A grande sacada do BERT é que foi proposto uma nova forma de treinar, justamente por ele ser **bidirecional**. O processo de treinamento visa otimizar **duas** tarefas que são aprendidas **ao mesmo tempo**"
   ]
  },
  {
   "cell_type": "markdown",
   "metadata": {
    "slideshow": {
     "slide_type": "fragment"
    }
   },
   "source": [
    "#### Tarefa 1 Masked Language Model\n",
    "\n",
    "A ideia é simples: dado um input de entrada, uma certa porcentagem (cerca de 15% segundo o paper) das palavras desse texto de entrada é máscarada (ou seja, trocadas por um token [MASK]). A tarefa é prever as palavras que foram escondidas. Daí, a última camada da rede tenta prever **apenas** a palavra que foi ocultada e, logo, **o BERT não pode ser usado para gerar sequências!!!**\n"
   ]
  },
  {
   "cell_type": "markdown",
   "metadata": {
    "slideshow": {
     "slide_type": "subslide"
    }
   },
   "source": [
    "Contudo, como as palavras escondidas são mascaradas com [MASK], isso gera uma discrepância entre os modelos de pré treino e finetuning já que os datasets de finetuning não terão esse token especial. Daí, outra sacada foi simplesmente embaralhar as palavras. Segundo o paper, dado um input, 15% das palavras são escolhidas como tokens para serem trocados. Com esses tokens selecionados, 80% das vezes eles viram [MASK], 10% das vezes eles são trocados por outro token e 10% das vezes eles são mantidos iguais.\n"
   ]
  },
  {
   "cell_type": "markdown",
   "metadata": {
    "slideshow": {
     "slide_type": "slide"
    }
   },
   "source": [
    "#### Tarefa 2 Next Sentence Prediction"
   ]
  },
  {
   "cell_type": "markdown",
   "metadata": {
    "slideshow": {
     "slide_type": "fragment"
    }
   },
   "source": [
    "A ideia também é direta: ao encodar as sequências de input, essas sequências são encodadas como pares e, logo, um dado input é formado por uma sentença A e uma sentença B. Durante o processo de treinamento, 50% dessas sentenças são embaralhadas e, logo, uma dada sentença B **não** é a sequência de A. O objetivo dessa Loss é aprender se uma sentença B é a próxima sentença de A. O interessante é que o \"resumo\" do embedding dessa sentença é dado por um vetor [CLS] que é apendado no começo da sentença A.\n",
    "\n",
    "Em resumo, o BERT encoda as sentenças da seguinte forma:\n",
    "\n",
    "```\n",
    "[CLS] sentença A [SEP] sentença B [SEP]\n",
    "```"
   ]
  },
  {
   "cell_type": "markdown",
   "metadata": {
    "slideshow": {
     "slide_type": "fragment"
    }
   },
   "source": [
    "**A loss do BERT é dada pela soma do MLM e NSP**"
   ]
  },
  {
   "cell_type": "code",
   "execution_count": 4,
   "metadata": {
    "scrolled": false,
    "slideshow": {
     "slide_type": "slide"
    }
   },
   "outputs": [
    {
     "data": {
      "text/html": [
       "<video src=\"images/TransformerEncoderExample.mp4\" controls  >\n",
       "      Your browser does not support the <code>video</code> element.\n",
       "    </video>"
      ],
      "text/plain": [
       "<IPython.core.display.Video object>"
      ]
     },
     "execution_count": 4,
     "metadata": {},
     "output_type": "execute_result"
    }
   ],
   "source": [
    "from IPython.display import Video\n",
    "\n",
    "Video(\"images/TransformerEncoderExample.mp4\")"
   ]
  },
  {
   "cell_type": "markdown",
   "metadata": {
    "slideshow": {
     "slide_type": "subslide"
    }
   },
   "source": [
    "# Fine Tuning\n",
    "\n",
    "Uma vez que a rede aprendeu algo no processo de pré treino, nós podemos fazer uma *modificação leve na sua ponta* visando um aprendizado surpervisionado e aí treinar a rede para essa tarefa, otimizando **todos os parâmetros** de ponta a ponta"
   ]
  },
  {
   "cell_type": "code",
   "execution_count": 153,
   "metadata": {
    "slideshow": {
     "slide_type": "subslide"
    }
   },
   "outputs": [],
   "source": [
    "class MultiHeadSelfAttention(layers.Layer):\n",
    "    def __init__(self, embed_dim, num_heads ):\n",
    "        super(MultiHeadSelfAttention, self).__init__()\n",
    "        if embed_dim % num_heads != 0:\n",
    "            raise ValueError(\n",
    "                f\"dimensão do embedding = {embed_dim} deve ser \"  +\n",
    "                \"divisível pelo n. de cabeças = {num_heads}\"\n",
    "            )\n",
    "        self.embed_dim = embed_dim\n",
    "        self.num_heads = num_heads\n",
    "        self.projection_dim = embed_dim // num_heads\n",
    "        self.query_dense = layers.Dense(embed_dim)\n",
    "        self.key_dense = layers.Dense(embed_dim)\n",
    "        self.value_dense = layers.Dense(embed_dim)\n",
    "        self.combine_heads = layers.Dense(embed_dim)\n",
    "\n",
    "    def attention(self, query, key, value):\n",
    "        score = tf.matmul(query, key, transpose_b=True)\n",
    "        dim_key = tf.cast(tf.shape(key)[-1], tf.float32)\n",
    "        scaled_score = score / tf.math.sqrt(dim_key)\n",
    "        weights = tf.nn.softmax(scaled_score, axis=-1)\n",
    "        output = tf.matmul(weights, value)\n",
    "        return output, weights\n",
    "\n",
    "    def separate_heads(self, x, batch_size):\n",
    "        # divide o embedding_dim em n_cabeças de projection_dim (batch_size e seq_len são mantidos)\n",
    "        x = tf.reshape(x, (batch_size, -1, self.num_heads, self.projection_dim))\n",
    "        # reordena o n_cabeças com a seq_len\n",
    "        return tf.transpose(x, perm=[0, 2, 1, 3])\n",
    "\n",
    "    def call(self, inputs):\n",
    "        # x.shape = [batch_size, seq_len, embedding_dim]\n",
    "        batch_size = tf.shape(inputs)[0]\n",
    "        query = self.query_dense(inputs)  # (batch_size, seq_len, embed_dim)\n",
    "        key = self.key_dense(inputs)      # (batch_size, seq_len, embed_dim)\n",
    "        value = self.value_dense(inputs)  # (batch_size, seq_len, embed_dim)\n",
    "        query = self.separate_heads(\n",
    "            query, batch_size\n",
    "        )  # (batch_size, num_heads, seq_len, projection_dim)\n",
    "        key = self.separate_heads(\n",
    "            key, batch_size\n",
    "        )  # (batch_size, num_heads, seq_len, projection_dim)\n",
    "        value = self.separate_heads(\n",
    "            value, batch_size\n",
    "        )  # (batch_size, num_heads, seq_len, projection_dim)\n",
    "        attention, weights = self.attention(query, key, value)\n",
    "        attention = tf.transpose(\n",
    "            attention, perm=[0, 2, 1, 3]\n",
    "        )  # (batch_size, seq_len, num_heads, projection_dim)\n",
    "        concat_attention = tf.reshape(\n",
    "            attention, (batch_size, -1, self.embed_dim)\n",
    "        )  # (batch_size, seq_len, embed_dim)\n",
    "        output = self.combine_heads(\n",
    "            concat_attention\n",
    "        )  # (batch_size, seq_len, embed_dim)\n",
    "        return output\n",
    "\n"
   ]
  },
  {
   "cell_type": "code",
   "execution_count": 154,
   "metadata": {
    "slideshow": {
     "slide_type": "subslide"
    }
   },
   "outputs": [],
   "source": [
    "class TokenAndPositionEmbedding(layers.Layer):\n",
    "    def __init__(self, maxlen, vocab_size, embed_dim):\n",
    "        super(TokenAndPositionEmbedding, self).__init__()\n",
    "        positions = np.array(range(0, maxlen, 1)).reshape(-1, 1)\n",
    "        even_i = np.array(range(0, embed_dim, 2))\n",
    "        odd_i = np.array(range(1, embed_dim, 2))\n",
    "\n",
    "        self.word_embedding = layers.Embedding(\n",
    "            input_dim=vocab_size, output_dim=embed_dim,\n",
    "        )\n",
    "        positional_encoding = np.zeros((maxlen, embed_dim))\n",
    "        positional_encoding[:, 0::2] = np.sin(\n",
    "            positions / (10000 ** (even_i / embed_dim))\n",
    "        )\n",
    "        positional_encoding[:, 1::2] = np.cos(\n",
    "            positions / (10000 ** ((odd_i - 1) / embed_dim))\n",
    "        )\n",
    "        self.positional_encoding = layers.Embedding(\n",
    "            input_dim=maxlen, output_dim=embed_dim, weights=[positional_encoding], trainable=False\n",
    "        )\n",
    "        #trainable é false pq é uma fórmula só, entao nao precisa aprender\n",
    "\n",
    "    def call(self, x):  # o que  é x aqui?\n",
    "        # x é um indice\n",
    "        positions = tf.range(start=0, limit=maxlen, delta=1)\n",
    "        positions = self.positional_encoding(positions)\n",
    "        x = self.word_embedding(x)\n",
    "        return x + positions"
   ]
  },
  {
   "cell_type": "code",
   "execution_count": 155,
   "metadata": {
    "slideshow": {
     "slide_type": "subslide"
    }
   },
   "outputs": [],
   "source": [
    "class TransformerBlock(layers.Layer):\n",
    "    def __init__(self, embed_dim, num_heads, ff_dim, rate=0.1):\n",
    "        super(TransformerBlock, self).__init__()\n",
    "        self.att = MultiHeadSelfAttention(embed_dim, num_heads)\n",
    "        self.ffn = keras.Sequential(\n",
    "            [layers.Dense(ff_dim, activation=\"relu\"), \n",
    "             layers.Dense(embed_dim),\n",
    "            ]\n",
    "        )\n",
    "        self.layernorm1 = layers.LayerNormalization(epsilon=1e-6)\n",
    "        self.layernorm2 = layers.LayerNormalization(epsilon=1e-6)\n",
    "        self.dropout1 = layers.Dropout(rate)\n",
    "        self.dropout2 = layers.Dropout(rate)\n",
    "\n",
    "    def call(self, inputs, training):\n",
    "        attn_output = self.att(inputs)\n",
    "        attn_output = self.dropout1(attn_output, training=training)\n",
    "        out1 = self.layernorm1(inputs + attn_output)\n",
    "        ffn_output = self.ffn(out1)\n",
    "        ffn_output = self.dropout2(ffn_output, training=training)\n",
    "        return self.layernorm2(out1 + ffn_output)"
   ]
  },
  {
   "cell_type": "code",
   "execution_count": 156,
   "metadata": {
    "slideshow": {
     "slide_type": "subslide"
    }
   },
   "outputs": [],
   "source": [
    "vocab_size = 30000\n",
    "embed_dim = 768  # tamanho do Embedding de cada token\n",
    "num_heads = 12  # N. de cabeças de atenção\n",
    "ff_dim = 12  # tamanho da camada oculta nas redes feed forward dentro do transformer\n",
    "maxlen = 512 #ja incluindo CLS e SEP\n",
    "\n",
    "tokenizer_layer = tf.keras.layers.experimental.preprocessing.TextVectorization(\n",
    "    standardize=\"lower_and_strip_punctuation\",\n",
    "    split=\"whitespace\",\n",
    "    ngrams=None,\n",
    "    output_mode=\"int\",\n",
    "    output_sequence_length=maxlen,\n",
    "    pad_to_max_tokens=False,\n",
    ")\n",
    "inputs = layers.Input(shape=(1,), dtype=tf.string, name=\"input_text\")\n",
    "embedding_layer = TokenAndPositionEmbedding(maxlen, vocab_size, embed_dim)\n",
    "transformer_block = TransformerBlock(embed_dim, num_heads, ff_dim)"
   ]
  },
  {
   "cell_type": "code",
   "execution_count": 157,
   "metadata": {
    "slideshow": {
     "slide_type": "subslide"
    }
   },
   "outputs": [],
   "source": [
    "x = tokenizer_layer(inputs)    \n",
    "x = embedding_layer(x)\n",
    "for i in range(12):\n",
    "    x = transformer_block(x)\n",
    "x = x[:,0,:] #cls token\n",
    "x = layers.Dropout(0.1)(x)\n",
    "outputs = layers.Dense(2, activation=\"softmax\")(x)\n",
    "model = keras.Model(inputs=inputs, outputs=outputs)"
   ]
  },
  {
   "cell_type": "code",
   "execution_count": 37,
   "metadata": {
    "scrolled": false,
    "slideshow": {
     "slide_type": "subslide"
    }
   },
   "outputs": [
    {
     "data": {
      "image/png": "[encoded data removed]",
      "text/plain": [
       "<IPython.core.display.Image object>"
      ]
     },
     "execution_count": 37,
     "metadata": {},
     "output_type": "execute_result"
    }
   ],
   "source": [
    "plot_model(model, show_shapes=True, show_layer_names=True)"
   ]
  },
  {
   "cell_type": "markdown",
   "metadata": {
    "slideshow": {
     "slide_type": "subslide"
    }
   },
   "source": [
    "Beleza, mas e os pesos pré treinados?"
   ]
  },
  {
   "cell_type": "markdown",
   "metadata": {
    "slideshow": {
     "slide_type": "fragment"
    }
   },
   "source": [
    "\n",
    "<center><img src='images/huggingface.png'  style=\"height:40%;width:40%\"></center>\n"
   ]
  },
  {
   "cell_type": "markdown",
   "metadata": {
    "slideshow": {
     "slide_type": "subslide"
    }
   },
   "source": [
    "\n",
    "<center><img src='images/hf-transformers.png'  style=\"height:50%;width:50%\"></center>"
   ]
  },
  {
   "cell_type": "code",
   "execution_count": 158,
   "metadata": {
    "slideshow": {
     "slide_type": "subslide"
    }
   },
   "outputs": [],
   "source": [
    "from transformers import BertTokenizer, pipeline, TFBertForPreTraining"
   ]
  },
  {
   "cell_type": "code",
   "execution_count": 138,
   "metadata": {
    "slideshow": {
     "slide_type": "fragment"
    }
   },
   "outputs": [],
   "source": [
    "REF_MODEL = 'neuralmind/bert-base-portuguese-cased'"
   ]
  },
  {
   "cell_type": "code",
   "execution_count": 139,
   "metadata": {
    "scrolled": true
   },
   "outputs": [
    {
     "name": "stderr",
     "output_type": "stream",
     "text": [
      "Some weights of the PyTorch model were not used when initializing the TF 2.0 model TFBertForPreTraining: ['cls.predictions.decoder.weight']\n",
      "- This IS expected if you are initializing TFBertForPreTraining from a PyTorch model trained on another task or with another architecture (e.g. initializing a TFBertForSequenceClassification model from a BertForPretraining model).\n",
      "- This IS NOT expected if you are initializing TFBertForPreTraining from a PyTorch model that you expect to be exactly identical (e.g. initializing a TFBertForSequenceClassification model from a BertForSequenceClassification model).\n",
      "All the weights of TFBertForPreTraining were initialized from the PyTorch model.\n",
      "If your task is similar to the task the model of the ckeckpoint was trained on, you can already use TFBertForPreTraining for predictions without further training.\n"
     ]
    }
   ],
   "source": [
    "model = TFBertForPreTraining.from_pretrained(REF_MODEL, from_pt=True)"
   ]
  },
  {
   "cell_type": "code",
   "execution_count": 140,
   "metadata": {
    "slideshow": {
     "slide_type": "fragment"
    }
   },
   "outputs": [
    {
     "name": "stderr",
     "output_type": "stream",
     "text": [
      "Some weights of the model checkpoint at neuralmind/bert-base-portuguese-cased were not used when initializing BertForMaskedLM: ['cls.seq_relationship.weight', 'cls.seq_relationship.bias']\n",
      "- This IS expected if you are initializing BertForMaskedLM from the checkpoint of a model trained on another task or with another architecture (e.g. initializing a BertForSequenceClassification model from a BertForPretraining model).\n",
      "- This IS NOT expected if you are initializing BertForMaskedLM from the checkpoint of a model that you expect to be exactly identical (initializing a BertForSequenceClassification model from a BertForSequenceClassification model).\n"
     ]
    },
    {
     "data": {
      "text/plain": [
       "[{'sequence': '[CLS] Eu bebi muita água no carnaval [SEP]',\n",
       "  'score': 0.3878271281719208,\n",
       "  'token': 1991,\n",
       "  'token_str': 'água'},\n",
       " {'sequence': '[CLS] Eu bebi muita cerveja no carnaval [SEP]',\n",
       "  'score': 0.3672230541706085,\n",
       "  'token': 18099,\n",
       "  'token_str': 'cerveja'},\n",
       " {'sequence': '[CLS] Eu bebi muita coisa no carnaval [SEP]',\n",
       "  'score': 0.18478259444236755,\n",
       "  'token': 5664,\n",
       "  'token_str': 'coisa'}]"
      ]
     },
     "execution_count": 140,
     "metadata": {},
     "output_type": "execute_result"
    }
   ],
   "source": [
    "unmasker = pipeline('fill-mask', model=REF_MODEL)\n",
    "unmasker(\"Eu bebi muita [MASK] no carnaval\")[:3]"
   ]
  },
  {
   "cell_type": "code",
   "execution_count": 141,
   "metadata": {
    "slideshow": {
     "slide_type": "subslide"
    }
   },
   "outputs": [
    {
     "name": "stderr",
     "output_type": "stream",
     "text": [
      "Some weights of the PyTorch model were not used when initializing the TF 2.0 model TFBertModel: ['cls.predictions.transform.dense.bias', 'cls.predictions.transform.LayerNorm.bias', 'cls.predictions.transform.LayerNorm.weight', 'cls.seq_relationship.bias', 'cls.predictions.transform.dense.weight', 'cls.predictions.bias', 'cls.seq_relationship.weight', 'cls.predictions.decoder.weight']\n",
      "- This IS expected if you are initializing TFBertModel from a PyTorch model trained on another task or with another architecture (e.g. initializing a TFBertForSequenceClassification model from a BertForPretraining model).\n",
      "- This IS NOT expected if you are initializing TFBertModel from a PyTorch model that you expect to be exactly identical (e.g. initializing a TFBertForSequenceClassification model from a BertForSequenceClassification model).\n",
      "All the weights of TFBertModel were initialized from the PyTorch model.\n",
      "If your task is similar to the task the model of the ckeckpoint was trained on, you can already use TFBertModel for predictions without further training.\n"
     ]
    },
    {
     "data": {
      "text/plain": [
       "(TensorShape([1, 13, 768]), TensorShape([1, 768]))"
      ]
     },
     "execution_count": 141,
     "metadata": {},
     "output_type": "execute_result"
    }
   ],
   "source": [
    "from transformers import BertTokenizer, TFBertModel\n",
    "\n",
    "tokenizer = BertTokenizer.from_pretrained(REF_MODEL)\n",
    "model = TFBertModel.from_pretrained(REF_MODEL, from_pt=True)\n",
    "text = \"O rato roeu a roupa do Rei de Roma\"\n",
    "encoded_input = tokenizer(text, return_tensors='tf')\n",
    "output = model(encoded_input)\n",
    "output[0].shape, output[1].shape"
   ]
  },
  {
   "cell_type": "code",
   "execution_count": 142,
   "metadata": {
    "scrolled": true,
    "slideshow": {
     "slide_type": "fragment"
    }
   },
   "outputs": [
    {
     "data": {
      "text/plain": [
       "TensorShape([1, 13])"
      ]
     },
     "execution_count": 142,
     "metadata": {},
     "output_type": "execute_result"
    }
   ],
   "source": [
    "encoded_input['input_ids'].shape"
   ]
  },
  {
   "cell_type": "markdown",
   "metadata": {
    "slideshow": {
     "slide_type": "fragment"
    }
   },
   "source": [
    "É o embedding de cada palavra e o segundo é o embedding de None ser o next sentence :)"
   ]
  },
  {
   "cell_type": "markdown",
   "metadata": {
    "slideshow": {
     "slide_type": "subslide"
    }
   },
   "source": [
    "Só que lembra que a gente tinha \"mudanças específicas para os casos de finetuning?\""
   ]
  },
  {
   "cell_type": "markdown",
   "metadata": {
    "slideshow": {
     "slide_type": "fragment"
    }
   },
   "source": [
    "![](images/new_BERT_Overall.jpg)\n",
    "[source](https://paperswithcode.com/method/bert#)"
   ]
  },
  {
   "cell_type": "markdown",
   "metadata": {
    "slideshow": {
     "slide_type": "subslide"
    }
   },
   "source": [
    "\n",
    "\n",
    "\n",
    "<center><img src='images/bert-specific.png'  style=\"height:50%;width:50%\"></center>"
   ]
  },
  {
   "cell_type": "code",
   "execution_count": 129,
   "metadata": {
    "slideshow": {
     "slide_type": "subslide"
    }
   },
   "outputs": [],
   "source": [
    "from transformers import (\n",
    "    TFBertForSequenceClassification,\n",
    "    TFBertForMultipleChoice,\n",
    "    TFBertForTokenClassification,\n",
    "    TFBertForQuestionAnswering,\n",
    ")"
   ]
  },
  {
   "cell_type": "code",
   "execution_count": 143,
   "metadata": {
    "scrolled": false
   },
   "outputs": [
    {
     "name": "stderr",
     "output_type": "stream",
     "text": [
      "Some weights of the PyTorch model were not used when initializing the TF 2.0 model TFBertForSequenceClassification: ['cls.predictions.transform.dense.bias', 'cls.predictions.transform.LayerNorm.bias', 'cls.predictions.transform.LayerNorm.weight', 'cls.seq_relationship.bias', 'cls.predictions.transform.dense.weight', 'cls.predictions.bias', 'cls.seq_relationship.weight', 'cls.predictions.decoder.weight']\n",
      "- This IS expected if you are initializing TFBertForSequenceClassification from a PyTorch model trained on another task or with another architecture (e.g. initializing a TFBertForSequenceClassification model from a BertForPretraining model).\n",
      "- This IS NOT expected if you are initializing TFBertForSequenceClassification from a PyTorch model that you expect to be exactly identical (e.g. initializing a TFBertForSequenceClassification model from a BertForSequenceClassification model).\n",
      "Some weights or buffers of the TF 2.0 model TFBertForSequenceClassification were not initialized from the PyTorch model and are newly initialized: ['classifier.weight', 'classifier.bias']\n",
      "You should probably TRAIN this model on a down-stream task to be able to use it for predictions and inference.\n"
     ]
    },
    {
     "name": "stdout",
     "output_type": "stream",
     "text": [
      "Model: \"tf_bert_for_sequence_classification_22\"\n",
      "_________________________________________________________________\n",
      "Layer (type)                 Output Shape              Param #   \n",
      "=================================================================\n",
      "bert (TFBertMainLayer)       multiple                  108923136 \n",
      "_________________________________________________________________\n",
      "dropout_1400 (Dropout)       multiple                  0         \n",
      "_________________________________________________________________\n",
      "classifier (Dense)           multiple                  1538      \n",
      "=================================================================\n",
      "Total params: 108,924,674\n",
      "Trainable params: 108,924,674\n",
      "Non-trainable params: 0\n",
      "_________________________________________________________________\n"
     ]
    }
   ],
   "source": [
    "model = TFBertForSequenceClassification.from_pretrained(REF_MODEL, from_pt=True)\n",
    "model.summary()"
   ]
  },
  {
   "cell_type": "code",
   "execution_count": 144,
   "metadata": {
    "scrolled": false,
    "slideshow": {
     "slide_type": "subslide"
    }
   },
   "outputs": [
    {
     "name": "stderr",
     "output_type": "stream",
     "text": [
      "Some weights of the PyTorch model were not used when initializing the TF 2.0 model TFBertForMultipleChoice: ['cls.predictions.transform.dense.bias', 'cls.predictions.transform.LayerNorm.bias', 'cls.predictions.transform.LayerNorm.weight', 'cls.seq_relationship.bias', 'cls.predictions.transform.dense.weight', 'cls.predictions.bias', 'cls.seq_relationship.weight', 'cls.predictions.decoder.weight']\n",
      "- This IS expected if you are initializing TFBertForMultipleChoice from a PyTorch model trained on another task or with another architecture (e.g. initializing a TFBertForSequenceClassification model from a BertForPretraining model).\n",
      "- This IS NOT expected if you are initializing TFBertForMultipleChoice from a PyTorch model that you expect to be exactly identical (e.g. initializing a TFBertForSequenceClassification model from a BertForSequenceClassification model).\n",
      "Some weights or buffers of the TF 2.0 model TFBertForMultipleChoice were not initialized from the PyTorch model and are newly initialized: ['classifier.weight', 'classifier.bias']\n",
      "You should probably TRAIN this model on a down-stream task to be able to use it for predictions and inference.\n"
     ]
    },
    {
     "name": "stdout",
     "output_type": "stream",
     "text": [
      "Model: \"tf_bert_for_multiple_choice_4\"\n",
      "_________________________________________________________________\n",
      "Layer (type)                 Output Shape              Param #   \n",
      "=================================================================\n",
      "bert (TFBertMainLayer)       multiple                  108923136 \n",
      "_________________________________________________________________\n",
      "dropout_1438 (Dropout)       multiple                  0         \n",
      "_________________________________________________________________\n",
      "classifier (Dense)           multiple                  769       \n",
      "=================================================================\n",
      "Total params: 108,923,905\n",
      "Trainable params: 108,923,905\n",
      "Non-trainable params: 0\n",
      "_________________________________________________________________\n"
     ]
    }
   ],
   "source": [
    "model = TFBertForMultipleChoice.from_pretrained(REF_MODEL, from_pt=True)\n",
    "model.summary()"
   ]
  },
  {
   "cell_type": "code",
   "execution_count": 159,
   "metadata": {
    "slideshow": {
     "slide_type": "subslide"
    }
   },
   "outputs": [
    {
     "name": "stderr",
     "output_type": "stream",
     "text": [
      "Some weights of the PyTorch model were not used when initializing the TF 2.0 model TFBertForTokenClassification: ['cls.predictions.transform.dense.bias', 'cls.predictions.transform.LayerNorm.bias', 'cls.predictions.transform.LayerNorm.weight', 'cls.seq_relationship.bias', 'cls.predictions.transform.dense.weight', 'cls.predictions.bias', 'cls.seq_relationship.weight', 'cls.predictions.decoder.weight']\n",
      "- This IS expected if you are initializing TFBertForTokenClassification from a PyTorch model trained on another task or with another architecture (e.g. initializing a TFBertForSequenceClassification model from a BertForPretraining model).\n",
      "- This IS NOT expected if you are initializing TFBertForTokenClassification from a PyTorch model that you expect to be exactly identical (e.g. initializing a TFBertForSequenceClassification model from a BertForSequenceClassification model).\n",
      "Some weights or buffers of the TF 2.0 model TFBertForTokenClassification were not initialized from the PyTorch model and are newly initialized: ['classifier.weight', 'classifier.bias']\n",
      "You should probably TRAIN this model on a down-stream task to be able to use it for predictions and inference.\n"
     ]
    },
    {
     "name": "stdout",
     "output_type": "stream",
     "text": [
      "Model: \"tf_bert_for_token_classification_2\"\n",
      "_________________________________________________________________\n",
      "Layer (type)                 Output Shape              Param #   \n",
      "=================================================================\n",
      "bert (TFBertMainLayer)       multiple                  108923136 \n",
      "_________________________________________________________________\n",
      "dropout_1516 (Dropout)       multiple                  0         \n",
      "_________________________________________________________________\n",
      "classifier (Dense)           multiple                  1538      \n",
      "=================================================================\n",
      "Total params: 108,924,674\n",
      "Trainable params: 108,924,674\n",
      "Non-trainable params: 0\n",
      "_________________________________________________________________\n"
     ]
    }
   ],
   "source": [
    "model = TFBertForTokenClassification.from_pretrained(REF_MODEL, from_pt=True)\n",
    "model.summary()"
   ]
  },
  {
   "cell_type": "code",
   "execution_count": 145,
   "metadata": {
    "scrolled": true,
    "slideshow": {
     "slide_type": "subslide"
    }
   },
   "outputs": [
    {
     "name": "stderr",
     "output_type": "stream",
     "text": [
      "Some weights of the PyTorch model were not used when initializing the TF 2.0 model TFBertForQuestionAnswering: ['cls.predictions.transform.dense.bias', 'cls.predictions.transform.LayerNorm.bias', 'cls.predictions.transform.LayerNorm.weight', 'cls.seq_relationship.bias', 'cls.predictions.transform.dense.weight', 'cls.predictions.bias', 'cls.seq_relationship.weight', 'cls.predictions.decoder.weight']\n",
      "- This IS expected if you are initializing TFBertForQuestionAnswering from a PyTorch model trained on another task or with another architecture (e.g. initializing a TFBertForSequenceClassification model from a BertForPretraining model).\n",
      "- This IS NOT expected if you are initializing TFBertForQuestionAnswering from a PyTorch model that you expect to be exactly identical (e.g. initializing a TFBertForSequenceClassification model from a BertForSequenceClassification model).\n",
      "Some weights or buffers of the TF 2.0 model TFBertForQuestionAnswering were not initialized from the PyTorch model and are newly initialized: ['qa_outputs.weight', 'qa_outputs.bias']\n",
      "You should probably TRAIN this model on a down-stream task to be able to use it for predictions and inference.\n"
     ]
    },
    {
     "name": "stdout",
     "output_type": "stream",
     "text": [
      "Model: \"tf_bert_for_question_answering_4\"\n",
      "_________________________________________________________________\n",
      "Layer (type)                 Output Shape              Param #   \n",
      "=================================================================\n",
      "bert (TFBertMainLayer)       multiple                  108923136 \n",
      "_________________________________________________________________\n",
      "qa_outputs (Dense)           multiple                  1538      \n",
      "=================================================================\n",
      "Total params: 108,924,674\n",
      "Trainable params: 108,924,674\n",
      "Non-trainable params: 0\n",
      "_________________________________________________________________\n"
     ]
    }
   ],
   "source": [
    "model = TFBertForQuestionAnswering.from_pretrained(REF_MODEL, from_pt=True)\n",
    "model.summary()"
   ]
  },
  {
   "cell_type": "markdown",
   "metadata": {
    "slideshow": {
     "slide_type": "slide"
    }
   },
   "source": [
    "# BERT e seus irmãos\n",
    "\n",
    "Com o sucesso do BERT, **vários** outros modelos foram propostos, trazendo melhorias para a área. Vamos passar por alguns deles aqui :)\n"
   ]
  },
  {
   "cell_type": "markdown",
   "metadata": {
    "slideshow": {
     "slide_type": "fragment"
    }
   },
   "source": [
    "## RoBERTa\n",
    "\n",
    "**r**obustly **o**ptimized **BERT** **a**pproach\n",
    "\n",
    "Foi proposta uma variação no pré treinamento do BERT, propondo quatro ideias novas:\n",
    "\n",
    "- Dynamic masking. Quando ocorre a máscara de tokens para a tarefa de MLM no caso do BERT, apenas uma unica máscara era considerada para cada observação no período de pré treinamento (static masking). No caso do RoBERTA, é usado um mascaramento dinâmico, ou seja, a estratégia de treinamento aplica uma nova máscara sempre que uma observação é alimentada ao modelo."
   ]
  },
  {
   "cell_type": "markdown",
   "metadata": {
    "slideshow": {
     "slide_type": "subslide"
    }
   },
   "source": [
    "- A loss associada ao NSP é desconsiderada e ocorre a adição de um token separador entre documentos para a MLM task.\n",
    "\n",
    "- Mini batches maiores. No caso do BERT, os mini batches tinham tamanho de 256; no RoBERTa eles tem tamanho de 8000\n",
    "\n",
    "- Byte-level no caso do byte-pair encoding é maior, resultando em um vocabulario maior"
   ]
  },
  {
   "cell_type": "markdown",
   "metadata": {
    "slideshow": {
     "slide_type": "subslide"
    }
   },
   "source": [
    "## Albert\n",
    "\n",
    "**a** **l**ite **BERT**\n",
    "\n",
    "A idéia era gerar  um modelo mais leve que o BERT, mas que mantivesse o mesmo resultado em termos de performance\n",
    "\n",
    "- O BERT padrão usa de 100k a 300k de parâmetros. O Albert usa em torno de 12k a 18k :)\n",
    "\n",
    "As técnicas aplicadas foram as seguintes"
   ]
  },
  {
   "cell_type": "markdown",
   "metadata": {
    "slideshow": {
     "slide_type": "subslide"
    }
   },
   "source": [
    "- Cross-layer parameter sharing. Para gerar estabilidade do modelo, todos os parâmetros em todas as camadas foram compartilhados\n",
    "\n",
    "- Factorized embedding parameterization. A matriz de embedding inicial tem uma dimensão $|v| \\times |m|$, em que $|v|$ é o tamanho do vocabulário e $|m|$ é o número de dimensões do embedding. A ideia aqui, então é aplicar uma tecnica de fatorização de matrizes, decompondo a matriz de embedding em duas menores\n",
    "\n",
    "- Inter-sentence coherence loss. A loss NSP é **substituida** por uma loss definida como sentence order prediction (SOP). A diferença é que ela apresenta exemplos negativos para os casos em que duas sentenças estão com a ordem trocada. Um exemplo negativo seria:"
   ]
  },
  {
   "cell_type": "markdown",
   "metadata": {
    "slideshow": {
     "slide_type": "fragment"
    }
   },
   "source": [
    "> “that is the question”, “to be, or not to be?”"
   ]
  },
  {
   "cell_type": "markdown",
   "metadata": {
    "slideshow": {
     "slide_type": "subslide"
    }
   },
   "source": [
    "## E muitos outros\n",
    "\n",
    "### XLNet"
   ]
  },
  {
   "cell_type": "markdown",
   "metadata": {
    "slideshow": {
     "slide_type": "fragment"
    }
   },
   "source": [
    "Ao invés de prever todos os masked tokens independentes condicionalmente, o XLNET prevê os masked tokens de maneira auto-regressiva de forma aleatória"
   ]
  },
  {
   "cell_type": "markdown",
   "metadata": {},
   "source": [
    "### SpanBERT"
   ]
  },
  {
   "cell_type": "markdown",
   "metadata": {},
   "source": [
    "Ao invés de mascarar *tokens*, ele mascara spans (conjunto de tokens)"
   ]
  },
  {
   "cell_type": "markdown",
   "metadata": {
    "slideshow": {
     "slide_type": "subslide"
    }
   },
   "source": [
    "### ELECTRA\n"
   ]
  },
  {
   "cell_type": "markdown",
   "metadata": {
    "slideshow": {
     "slide_type": "fragment"
    }
   },
   "source": [
    "\n",
    "Ao invés de mascarar palavras, nós substituimos por tokens similares e tratamos como um problema de classificação binária em que se tenta prever se os tokens foram trocados ou não. É GAN-inspirado"
   ]
  },
  {
   "cell_type": "markdown",
   "metadata": {
    "slideshow": {
     "slide_type": "fragment"
    }
   },
   "source": [
    "### DistilBERT\n",
    "\n",
    "Mesma linha do Albert, mas aplicam uma ténica de compressão de modelo chamada **destilação**\n",
    "\n",
    "Modelo final tem 40% menos parâmetros, roda 60% mais rápido e tem 95% de performance mantida"
   ]
  },
  {
   "cell_type": "markdown",
   "metadata": {
    "slideshow": {
     "slide_type": "subslide"
    }
   },
   "source": [
    "**Entre outros**"
   ]
  },
  {
   "cell_type": "code",
   "execution_count": 146,
   "metadata": {},
   "outputs": [],
   "source": [
    "from transformers import (\n",
    "    TFRobertaForSequenceClassification,\n",
    "    TFDistilBertForQuestionAnswering,\n",
    ")"
   ]
  },
  {
   "cell_type": "markdown",
   "metadata": {},
   "source": [
    "[Lista de modelos implementados](https://huggingface.co/transformers/model_doc/albert.html)\n",
    "[Lista de modelos disponíveis](https://huggingface.co/models)"
   ]
  },
  {
   "cell_type": "markdown",
   "metadata": {
    "slideshow": {
     "slide_type": "slide"
    }
   },
   "source": [
    "## Miscelânea"
   ]
  },
  {
   "cell_type": "markdown",
   "metadata": {
    "slideshow": {
     "slide_type": "subslide"
    }
   },
   "source": [
    "\n",
    "\n",
    "Para pessoas que estão treinando em GPU's não tão parrudas, é comum encontrarmos o seguinte erro:"
   ]
  },
  {
   "cell_type": "markdown",
   "metadata": {
    "slideshow": {
     "slide_type": "fragment"
    }
   },
   "source": [
    "<center><img src='images/gpu_oom.png'\"></center>"
   ]
  },
  {
   "cell_type": "markdown",
   "metadata": {
    "slideshow": {
     "slide_type": "subslide"
    }
   },
   "source": [
    "E aí você tenta solucionar e descobre isso:"
   ]
  },
  {
   "cell_type": "markdown",
   "metadata": {
    "slideshow": {
     "slide_type": "fragment"
    }
   },
   "source": [
    "<center><img src='images/gpu_memory_frustration.png'\"></center>"
   ]
  },
  {
   "cell_type": "markdown",
   "metadata": {
    "slideshow": {
     "slide_type": "subslide"
    }
   },
   "source": [
    "Felizmente existem duas opções que me ajudaram **muito**"
   ]
  },
  {
   "cell_type": "markdown",
   "metadata": {
    "slideshow": {
     "slide_type": "subslide"
    }
   },
   "source": [
    "### Gradient Accumulation"
   ]
  },
  {
   "cell_type": "markdown",
   "metadata": {
    "slideshow": {
     "slide_type": "fragment"
    }
   },
   "source": [
    "![](https://miro.medium.com/max/1260/1*ySxl2GQu0g07R7gWF4rizg.gif)"
   ]
  },
  {
   "cell_type": "markdown",
   "metadata": {
    "slideshow": {
     "slide_type": "subslide"
    }
   },
   "source": [
    "### FP16\n",
    "\n",
    "> Mixed precision training offers significant computational speedup by performing operations in half-precision format, while storing minimal information in single-precision to retain as much information as possible in critical parts of the network. Since the introduction of Tensor Cores in the Volta and Turing architectures, significant training speedups are experienced by switching to mixed precision -- up to 3x overall speedup on the most arithmetically intense model architectures. \n",
    "\n",
    "[source](https://docs.nvidia.com/deeplearning/performance/mixed-precision-training/index.html)"
   ]
  },
  {
   "cell_type": "markdown",
   "metadata": {
    "slideshow": {
     "slide_type": "subslide"
    }
   },
   "source": [
    "# Obrigado! :)"
   ]
  }
 ],
 "metadata": {
  "colab": {
   "collapsed_sections": [],
   "name": "Cópia de text_classification_with_transformer",
   "provenance": [],
   "toc_visible": true
  },
  "kernelspec": {
   "display_name": "nlportugues",
   "language": "python",
   "name": "nlportugues"
  },
  "language_info": {
   "codemirror_mode": {
    "name": "ipython",
    "version": 3
   },
   "file_extension": ".py",
   "mimetype": "text/x-python",
   "name": "python",
   "nbconvert_exporter": "python",
   "pygments_lexer": "ipython3",
   "version": "3.7.2"
  },
  "toc": {
   "base_numbering": 1,
   "nav_menu": {},
   "number_sections": true,
   "sideBar": true,
   "skip_h1_title": false,
   "title_cell": "Table of Contents",
   "title_sidebar": "Contents",
   "toc_cell": false,
   "toc_position": {},
   "toc_section_display": true,
   "toc_window_display": false
  }
 },
 "nbformat": 4,
 "nbformat_minor": 1
}
